{
 "cells": [
  {
   "cell_type": "code",
   "execution_count": 12,
   "metadata": {},
   "outputs": [],
   "source": [
    "import numpy as np \n",
    "import pandas as pd \n",
    "import matplotlib.pyplot as plt \n",
    "import seaborn as sns \n",
    "\n",
    "from sklearn.pipeline import Pipeline\n",
    "from sklearn.metrics import log_loss, mean_absolute_percentage_error, r2_score, mean_squared_error\n",
    "\n",
    "from optuna.samplers import TPESampler\n",
    "from sklearn.model_selection import KFold, cross_val_score, train_test_split\n",
    "from sklearn.preprocessing import PolynomialFeatures, StandardScaler\n",
    "\n",
    "import optuna\n",
    "from optuna.visualization.matplotlib import plot_param_importances\n",
    "optuna.logging.set_verbosity(optuna.logging.WARNING)\n",
    "\n",
    "from lightgbm import LGBMClassifier\n",
    "from xgboost import XGBClassifier\n",
    "from catboost import CatBoostClassifier\n",
    "\n",
    "\n",
    "from tqdm.auto import tqdm\n",
    "import pickle\n",
    "\n",
    "import warnings\n",
    "warnings.filterwarnings('ignore')\n"
   ]
  },
  {
   "cell_type": "code",
   "execution_count": 13,
   "metadata": {},
   "outputs": [],
   "source": [
    "NORM_UBP_MAX = 200\n",
    "NORM_UBP_MIN = 80\n",
    "NORM_LBP_MAX = 150\n",
    "NORM_LBP_MIN = 40 \n",
    "DELTA = 45\n",
    "\n",
    "MAIN_SEED = 42\n",
    "np.random.seed(MAIN_SEED)"
   ]
  },
  {
   "cell_type": "code",
   "execution_count": 14,
   "metadata": {},
   "outputs": [
    {
     "data": {
      "text/html": [
       "<div>\n",
       "<style scoped>\n",
       "    .dataframe tbody tr th:only-of-type {\n",
       "        vertical-align: middle;\n",
       "    }\n",
       "\n",
       "    .dataframe tbody tr th {\n",
       "        vertical-align: top;\n",
       "    }\n",
       "\n",
       "    .dataframe thead th {\n",
       "        text-align: right;\n",
       "    }\n",
       "</style>\n",
       "<table border=\"1\" class=\"dataframe\">\n",
       "  <thead>\n",
       "    <tr style=\"text-align: right;\">\n",
       "      <th></th>\n",
       "      <th>age</th>\n",
       "      <th>weight</th>\n",
       "      <th>height</th>\n",
       "      <th>sex</th>\n",
       "      <th>stress</th>\n",
       "      <th>doctor</th>\n",
       "      <th>sport</th>\n",
       "      <th>pernicious_1</th>\n",
       "      <th>pernicious_2</th>\n",
       "      <th>ubp</th>\n",
       "      <th>lbp</th>\n",
       "      <th>insomnia</th>\n",
       "    </tr>\n",
       "  </thead>\n",
       "  <tbody>\n",
       "    <tr>\n",
       "      <th>46730</th>\n",
       "      <td>59.603012</td>\n",
       "      <td>64.0</td>\n",
       "      <td>156</td>\n",
       "      <td>1</td>\n",
       "      <td>2</td>\n",
       "      <td>1</td>\n",
       "      <td>1</td>\n",
       "      <td>0</td>\n",
       "      <td>0</td>\n",
       "      <td>140</td>\n",
       "      <td>80</td>\n",
       "      <td>1</td>\n",
       "    </tr>\n",
       "    <tr>\n",
       "      <th>48393</th>\n",
       "      <td>59.893224</td>\n",
       "      <td>85.0</td>\n",
       "      <td>170</td>\n",
       "      <td>1</td>\n",
       "      <td>1</td>\n",
       "      <td>1</td>\n",
       "      <td>1</td>\n",
       "      <td>0</td>\n",
       "      <td>0</td>\n",
       "      <td>160</td>\n",
       "      <td>90</td>\n",
       "      <td>1</td>\n",
       "    </tr>\n",
       "    <tr>\n",
       "      <th>41416</th>\n",
       "      <td>63.709788</td>\n",
       "      <td>90.0</td>\n",
       "      <td>151</td>\n",
       "      <td>1</td>\n",
       "      <td>1</td>\n",
       "      <td>1</td>\n",
       "      <td>1</td>\n",
       "      <td>0</td>\n",
       "      <td>0</td>\n",
       "      <td>130</td>\n",
       "      <td>80</td>\n",
       "      <td>1</td>\n",
       "    </tr>\n",
       "    <tr>\n",
       "      <th>34506</th>\n",
       "      <td>54.047912</td>\n",
       "      <td>97.0</td>\n",
       "      <td>159</td>\n",
       "      <td>1</td>\n",
       "      <td>1</td>\n",
       "      <td>1</td>\n",
       "      <td>1</td>\n",
       "      <td>0</td>\n",
       "      <td>0</td>\n",
       "      <td>120</td>\n",
       "      <td>80</td>\n",
       "      <td>1</td>\n",
       "    </tr>\n",
       "    <tr>\n",
       "      <th>43725</th>\n",
       "      <td>50.362765</td>\n",
       "      <td>68.0</td>\n",
       "      <td>164</td>\n",
       "      <td>1</td>\n",
       "      <td>1</td>\n",
       "      <td>1</td>\n",
       "      <td>1</td>\n",
       "      <td>0</td>\n",
       "      <td>0</td>\n",
       "      <td>120</td>\n",
       "      <td>80</td>\n",
       "      <td>0</td>\n",
       "    </tr>\n",
       "    <tr>\n",
       "      <th>11615</th>\n",
       "      <td>56.123203</td>\n",
       "      <td>78.0</td>\n",
       "      <td>184</td>\n",
       "      <td>2</td>\n",
       "      <td>1</td>\n",
       "      <td>1</td>\n",
       "      <td>1</td>\n",
       "      <td>0</td>\n",
       "      <td>0</td>\n",
       "      <td>120</td>\n",
       "      <td>80</td>\n",
       "      <td>0</td>\n",
       "    </tr>\n",
       "    <tr>\n",
       "      <th>24656</th>\n",
       "      <td>43.857632</td>\n",
       "      <td>60.0</td>\n",
       "      <td>163</td>\n",
       "      <td>1</td>\n",
       "      <td>1</td>\n",
       "      <td>1</td>\n",
       "      <td>1</td>\n",
       "      <td>0</td>\n",
       "      <td>0</td>\n",
       "      <td>120</td>\n",
       "      <td>80</td>\n",
       "      <td>0</td>\n",
       "    </tr>\n",
       "    <tr>\n",
       "      <th>22411</th>\n",
       "      <td>49.979466</td>\n",
       "      <td>75.0</td>\n",
       "      <td>176</td>\n",
       "      <td>2</td>\n",
       "      <td>1</td>\n",
       "      <td>1</td>\n",
       "      <td>0</td>\n",
       "      <td>0</td>\n",
       "      <td>0</td>\n",
       "      <td>130</td>\n",
       "      <td>90</td>\n",
       "      <td>1</td>\n",
       "    </tr>\n",
       "    <tr>\n",
       "      <th>936</th>\n",
       "      <td>64.082136</td>\n",
       "      <td>90.0</td>\n",
       "      <td>175</td>\n",
       "      <td>2</td>\n",
       "      <td>3</td>\n",
       "      <td>3</td>\n",
       "      <td>1</td>\n",
       "      <td>0</td>\n",
       "      <td>0</td>\n",
       "      <td>160</td>\n",
       "      <td>80</td>\n",
       "      <td>1</td>\n",
       "    </tr>\n",
       "    <tr>\n",
       "      <th>56364</th>\n",
       "      <td>57.552361</td>\n",
       "      <td>56.0</td>\n",
       "      <td>145</td>\n",
       "      <td>1</td>\n",
       "      <td>2</td>\n",
       "      <td>1</td>\n",
       "      <td>1</td>\n",
       "      <td>0</td>\n",
       "      <td>0</td>\n",
       "      <td>150</td>\n",
       "      <td>80</td>\n",
       "      <td>0</td>\n",
       "    </tr>\n",
       "  </tbody>\n",
       "</table>\n",
       "</div>"
      ],
      "text/plain": [
       "             age  weight  height  sex  stress  doctor  sport  pernicious_1  \\\n",
       "46730  59.603012    64.0     156    1       2       1      1             0   \n",
       "48393  59.893224    85.0     170    1       1       1      1             0   \n",
       "41416  63.709788    90.0     151    1       1       1      1             0   \n",
       "34506  54.047912    97.0     159    1       1       1      1             0   \n",
       "43725  50.362765    68.0     164    1       1       1      1             0   \n",
       "11615  56.123203    78.0     184    2       1       1      1             0   \n",
       "24656  43.857632    60.0     163    1       1       1      1             0   \n",
       "22411  49.979466    75.0     176    2       1       1      0             0   \n",
       "936    64.082136    90.0     175    2       3       3      1             0   \n",
       "56364  57.552361    56.0     145    1       2       1      1             0   \n",
       "\n",
       "       pernicious_2  ubp  lbp  insomnia  \n",
       "46730             0  140   80         1  \n",
       "48393             0  160   90         1  \n",
       "41416             0  130   80         1  \n",
       "34506             0  120   80         1  \n",
       "43725             0  120   80         0  \n",
       "11615             0  120   80         0  \n",
       "24656             0  120   80         0  \n",
       "22411             0  130   90         1  \n",
       "936               0  160   80         1  \n",
       "56364             0  150   80         0  "
      ]
     },
     "execution_count": 14,
     "metadata": {},
     "output_type": "execute_result"
    }
   ],
   "source": [
    "train = pd.read_csv('Data/TRAIN.csv')\n",
    "test = pd.read_csv('Data/TEST.csv')\n",
    "\n",
    "train.drop('id', axis=1, inplace=True)\n",
    "test.drop('id', axis=1, inplace=True)\n",
    "\n",
    "sample_submission = pd.read_csv('Data/sample_submission.csv')\n",
    "train.sample(10)"
   ]
  },
  {
   "cell_type": "code",
   "execution_count": 15,
   "metadata": {},
   "outputs": [],
   "source": [
    "train['ubp'] = np.abs(train['ubp'])\n",
    "test['ubp'] = np.abs(test['ubp'])\n",
    "\n",
    "train['lbp'] = np.abs(train['lbp'])\n",
    "test['lbp'] = np.abs(test['lbp'])"
   ]
  },
  {
   "cell_type": "code",
   "execution_count": 16,
   "metadata": {},
   "outputs": [],
   "source": [
    "train[train['ubp'] > NORM_UBP_MAX]['ubp'] = NORM_UBP_MAX\n",
    "test[test['ubp'] > NORM_UBP_MAX]['ubp'] = NORM_UBP_MAX\n",
    "\n",
    "train[train['lbp'] > NORM_LBP_MAX]['lbp'] = NORM_LBP_MAX\n",
    "test[test['lbp'] > NORM_LBP_MAX]['lbp'] = NORM_LBP_MAX\n",
    "\n",
    "train[train['ubp'] < NORM_UBP_MIN]['ubp'] = NORM_UBP_MIN\n",
    "test[test['ubp'] < NORM_UBP_MIN]['ubp'] = NORM_UBP_MIN\n",
    "\n",
    "train[train['lbp'] < NORM_LBP_MIN]['lbp'] = NORM_LBP_MIN\n",
    "test[test['lbp'] < NORM_LBP_MIN]['lbp'] = NORM_LBP_MIN"
   ]
  },
  {
   "cell_type": "code",
   "execution_count": 17,
   "metadata": {},
   "outputs": [],
   "source": [
    "#train.loc[((train['ubp'] > NORM_UBP_MAX) | (train['ubp'] < NORM_UBP_MIN)) & ((train['lbp'] < NORM_LBP_MAX) & (train['lbp'] > NORM_LBP_MIN)), 'ubp'] = \\\n",
    "#    train.loc[(((train['ubp'] > NORM_UBP_MAX) | (train['ubp'] < NORM_UBP_MIN)) & ((train['lbp'] < NORM_LBP_MAX) & (train['lbp'] > NORM_LBP_MIN))), 'lbp'] + DELTA\n",
    "\n",
    "#train.loc[((train['lbp'] > NORM_LBP_MAX) | (train['lbp'] < NORM_LBP_MIN)) & ((train['ubp'] < NORM_UBP_MAX) & (train['ubp'] > NORM_UBP_MIN)), 'lbp'] = \\\n",
    "#    train.loc[((train['lbp'] > NORM_LBP_MAX) | (train['lbp'] < NORM_LBP_MIN)) & ((train['ubp'] < NORM_UBP_MAX) & (train['ubp'] > NORM_UBP_MIN)), 'ubp'] - DELTA\n"
   ]
  },
  {
   "cell_type": "code",
   "execution_count": 18,
   "metadata": {},
   "outputs": [],
   "source": [
    "#test.loc[((test['ubp'] > NORM_UBP_MAX) | (test['ubp'] < NORM_UBP_MIN)) & ((test['lbp'] < NORM_LBP_MAX) & (test['lbp'] > NORM_LBP_MIN)), 'ubp'] = \\\n",
    "#    test.loc[(((test['ubp'] > NORM_UBP_MAX) | (test['ubp'] < NORM_UBP_MIN)) & ((test['lbp'] < NORM_LBP_MAX) & (test['lbp'] > NORM_LBP_MIN))), 'lbp'] + DELTA\n",
    "\n",
    "#test.loc[((test['lbp'] > NORM_LBP_MAX) | (test['lbp'] < NORM_LBP_MIN)) & ((test['ubp'] < NORM_UBP_MAX) & (test['ubp'] > NORM_UBP_MIN)), 'lbp'] = \\\n",
    "#    test.loc[((test['lbp'] > NORM_LBP_MAX) | (test['lbp'] < NORM_LBP_MIN)) & ((test['ubp'] < NORM_UBP_MAX) & (test['ubp'] > NORM_UBP_MIN)), 'ubp'] - DELTA\n"
   ]
  },
  {
   "cell_type": "code",
   "execution_count": 19,
   "metadata": {},
   "outputs": [],
   "source": [
    "#train.drop(train[train['ubp'] > 300].index, inplace=True)\n",
    "#test.drop(test[test['ubp'] > 300].index, inplace=True)\n",
    "#test.drop(test[test['lbp'] > 300].index, inplace=True)\n",
    "#train.drop(train[train['lbp'] > 300].index, inplace=True)\n",
    "\n",
    "#train.drop(train[train['ubp'] < 20].index, inplace=True)\n",
    "#test.drop(test[test['ubp'] < 20].index, inplace=True)\n",
    "#test.drop(test[test['lbp'] < 20].index, inplace=True)\n",
    "#train.drop(train[train['lbp'] < 20].index, inplace=True)\n",
    "\n",
    "#train.drop('sport', axis=1, inplace=True)\n",
    "#test.drop('sport', axis=1, inplace=True)"
   ]
  },
  {
   "cell_type": "code",
   "execution_count": 20,
   "metadata": {},
   "outputs": [],
   "source": [
    "# fix nulls in test\n",
    "\n",
    "# pernicious_1 & pernicious_2 correlate with *sex* a little \n",
    "# so fill nulls with regard to it: \n",
    "# 1 for *sex* == 2 and 0, otherwise \n",
    "pernicious_1_nan_male = np.where((np.isnan(test['pernicious_1']) & (test['sex']==2)), \n",
    "                                  1, \n",
    "                                  test['pernicious_1'])\n",
    "test['pernicious_1'] = pernicious_1_nan_male\n",
    "test['pernicious_1'] = test['pernicious_1'].fillna(0)\n",
    "\n",
    "pernicious_2_nan_male = np.where((np.isnan(test['pernicious_2']) & (test['sex']==2)), \n",
    "                                  1, \n",
    "                                  test['pernicious_2'])\n",
    "test['pernicious_2'] = pernicious_2_nan_male\n",
    "test['pernicious_2'] = test['pernicious_2'].fillna(0)"
   ]
  },
  {
   "cell_type": "code",
   "execution_count": 21,
   "metadata": {},
   "outputs": [],
   "source": [
    "# *sex*: 1/2 -> 0/1\n",
    "\n",
    "train['sex'] -= 1\n",
    "test['sex'] -= 1"
   ]
  },
  {
   "cell_type": "code",
   "execution_count": 22,
   "metadata": {},
   "outputs": [
    {
     "data": {
      "image/png": "[encoded data removed]",
      "text/plain": [
       "<Figure size 2160x3600 with 9 Axes>"
      ]
     },
     "metadata": {
      "needs_background": "light"
     },
     "output_type": "display_data"
    }
   ],
   "source": [
    "plt.figure(figsize=(30, 50))\n",
    "\n",
    "for i in range(1, 10):\n",
    "    plt.subplot(5, 3, i)\n",
    "    sns.histplot(data=train, x=train.columns[i-1], alpha=0.7, bins=25, stat='probability')\n",
    "    if i != 12:\n",
    "        sns.histplot(data=test, x=test.columns[i-1], alpha=0.4, color='orange', bins=25, stat='probability')\n",
    "    plt.grid()\n",
    "plt.savefig('Data distribution.pdf', bbox_inches='tight')\n",
    "plt.show()"
   ]
  },
  {
   "cell_type": "code",
   "execution_count": 23,
   "metadata": {},
   "outputs": [
    {
     "data": {
      "image/png": "[encoded data removed]",
      "text/plain": [
       "<Figure size 1800x720 with 4 Axes>"
      ]
     },
     "metadata": {
      "needs_background": "light"
     },
     "output_type": "display_data"
    }
   ],
   "source": [
    "plt.figure(figsize=(25, 10))\n",
    "plt.subplot(1, 2, 1)\n",
    "sns.heatmap(np.abs(train.corr()))\n",
    "plt.title('Train correlation matrix')\n",
    "plt.subplot(1, 2, 2)\n",
    "sns.heatmap(np.abs(test.corr()))\n",
    "plt.title('Test correlation matrix')\n",
    "plt.savefig('Data correlation.pdf')\n",
    "plt.show()"
   ]
  },
  {
   "cell_type": "code",
   "execution_count": 24,
   "metadata": {},
   "outputs": [],
   "source": [
    "# one-hot-encoding categorical features\n",
    "\n",
    "stress_train_ohe = pd.get_dummies(train['stress'], prefix='stress').drop(columns='stress_3')\n",
    "stress_test_ohe = pd.get_dummies(test['stress'], prefix='stress').drop(columns='stress_3')\n",
    "\n",
    "train = train.drop(columns='stress')\n",
    "test = test.drop(columns='stress')\n",
    "\n",
    "train = train.join(stress_train_ohe)\n",
    "test = test.join(stress_test_ohe)"
   ]
  },
  {
   "cell_type": "code",
   "execution_count": 25,
   "metadata": {},
   "outputs": [],
   "source": [
    "y_train_ = train['insomnia']\n",
    "train = train.drop(columns=['insomnia'])\n",
    "\n",
    "scaler = StandardScaler()\n",
    "scaler.fit(train)\n",
    "train = scaler.transform(train)\n",
    "test = scaler.transform(test)"
   ]
  },
  {
   "cell_type": "code",
   "execution_count": 26,
   "metadata": {},
   "outputs": [],
   "source": [
    "# train-test split \n",
    "\n",
    "X_train, X_val, y_train, y_val = train_test_split(train, \n",
    "                                                  y_train_, \n",
    "                                                  test_size=0.3, \n",
    "                                                  random_state=MAIN_SEED)"
   ]
  },
  {
   "cell_type": "markdown",
   "metadata": {},
   "source": [
    "## LGBM"
   ]
  },
  {
   "cell_type": "code",
   "execution_count": 27,
   "metadata": {},
   "outputs": [],
   "source": [
    "def objective(trial: optuna.Trial):\n",
    "\n",
    "    params = {\n",
    "        'boosting_type': trial.suggest_categorical('boosting_type', ('gbdt', 'dart', 'goss')),\n",
    "        #'num_leaves': trial.suggest_int(\"num_leaves\", 2, 1500),\n",
    "        'n_estimators': trial.suggest_int(\"n_estimators\", 10, 500),\n",
    "        'max_depth': trial.suggest_int('max_depth', 2, 25),\n",
    "        #'min_child_samples': trial.suggest_int('min_child_samples', 2, 150),\n",
    "        'learning_rate': trial.suggest_uniform('learning_rate', 1e-5, 1.),\n",
    "        'min_data_in_leaf': trial.suggest_int('min_data_in_leaf', 2, 300),\n",
    "        'feature_fraction': trial.suggest_uniform('feature_fraction', 1e-5, 1.),\n",
    "        'objective': 'binary',\n",
    "        'random_state': MAIN_SEED,\n",
    "        'n_jobs': -1,\n",
    "    }\n",
    "\n",
    "    model = LGBMClassifier(**params)\n",
    "    \n",
    "    model.fit(X_train, y_train)\n",
    "    result = model.predict_proba(X_val)\n",
    "    score = log_loss(y_val, result)\n",
    "    return score"
   ]
  },
  {
   "cell_type": "code",
   "execution_count": 28,
   "metadata": {},
   "outputs": [],
   "source": [
    "sampler = TPESampler(seed=MAIN_SEED)\n",
    "study = optuna.create_study(direction='minimize', sampler=sampler)"
   ]
  },
  {
   "cell_type": "code",
   "execution_count": null,
   "metadata": {},
   "outputs": [
    {
     "name": "stderr",
     "output_type": "stream",
     "text": [
      "  0%|          | 0/150 [00:00<?, ?it/s]"
     ]
    },
    {
     "name": "stdout",
     "output_type": "stream",
     "text": [
      "[LightGBM] [Warning] feature_fraction is set=0.8661774840134774, colsample_bytree=1.0 will be ignored. Current value: feature_fraction=0.8661774840134774\n",
      "[LightGBM] [Warning] min_data_in_leaf is set=19, min_child_samples=20 will be ignored. Current value: min_data_in_leaf=19\n"
     ]
    },
    {
     "name": "stderr",
     "output_type": "stream",
     "text": [
      "  1%|          | 1/150 [00:02<06:19,  2.55s/it]"
     ]
    },
    {
     "name": "stdout",
     "output_type": "stream",
     "text": [
      "[LightGBM] [Warning] feature_fraction is set=0.1834126758083353, colsample_bytree=1.0 will be ignored. Current value: feature_fraction=0.1834126758083353\n",
      "[LightGBM] [Warning] min_data_in_leaf is set=56, min_child_samples=20 will be ignored. Current value: min_data_in_leaf=56\n"
     ]
    },
    {
     "name": "stderr",
     "output_type": "stream",
     "text": [
      "  1%|▏         | 2/150 [00:07<10:12,  4.14s/it]"
     ]
    },
    {
     "name": "stdout",
     "output_type": "stream",
     "text": [
      "[LightGBM] [Warning] feature_fraction is set=0.3663681796752588, colsample_bytree=1.0 will be ignored. Current value: feature_fraction=0.3663681796752588\n",
      "[LightGBM] [Warning] min_data_in_leaf is set=89, min_child_samples=20 will be ignored. Current value: min_data_in_leaf=89\n"
     ]
    },
    {
     "name": "stderr",
     "output_type": "stream",
     "text": [
      "  2%|▏         | 3/150 [00:08<06:29,  2.65s/it]"
     ]
    },
    {
     "name": "stdout",
     "output_type": "stream",
     "text": [
      "[LightGBM] [Warning] feature_fraction is set=0.17053241844605468, colsample_bytree=1.0 will be ignored. Current value: feature_fraction=0.17053241844605468\n",
      "[LightGBM] [Warning] min_data_in_leaf is set=183, min_child_samples=20 will be ignored. Current value: min_data_in_leaf=183\n"
     ]
    },
    {
     "name": "stderr",
     "output_type": "stream",
     "text": [
      "  3%|▎         | 4/150 [00:10<05:37,  2.31s/it]"
     ]
    },
    {
     "name": "stdout",
     "output_type": "stream",
     "text": [
      "[LightGBM] [Warning] feature_fraction is set=0.44015809221466395, colsample_bytree=1.0 will be ignored. Current value: feature_fraction=0.44015809221466395\n",
      "[LightGBM] [Warning] min_data_in_leaf is set=206, min_child_samples=20 will be ignored. Current value: min_data_in_leaf=206\n"
     ]
    },
    {
     "name": "stderr",
     "output_type": "stream",
     "text": [
      "  3%|▎         | 5/150 [00:11<04:31,  1.87s/it]"
     ]
    },
    {
     "name": "stdout",
     "output_type": "stream",
     "text": [
      "[LightGBM] [Warning] feature_fraction is set=0.5200728204975991, colsample_bytree=1.0 will be ignored. Current value: feature_fraction=0.5200728204975991\n",
      "[LightGBM] [Warning] min_data_in_leaf is set=95, min_child_samples=20 will be ignored. Current value: min_data_in_leaf=95\n"
     ]
    },
    {
     "name": "stderr",
     "output_type": "stream",
     "text": [
      "  4%|▍         | 6/150 [00:16<07:23,  3.08s/it]"
     ]
    },
    {
     "name": "stdout",
     "output_type": "stream",
     "text": [
      "[LightGBM] [Warning] feature_fraction is set=0.9218750162807666, colsample_bytree=1.0 will be ignored. Current value: feature_fraction=0.9218750162807666\n",
      "[LightGBM] [Warning] min_data_in_leaf is set=180, min_child_samples=20 will be ignored. Current value: min_data_in_leaf=180\n"
     ]
    },
    {
     "name": "stderr",
     "output_type": "stream",
     "text": [
      "  5%|▍         | 7/150 [00:18<05:52,  2.47s/it]"
     ]
    },
    {
     "name": "stdout",
     "output_type": "stream",
     "text": [
      "[LightGBM] [Warning] feature_fraction is set=0.3567597591603224, colsample_bytree=1.0 will be ignored. Current value: feature_fraction=0.3567597591603224\n",
      "[LightGBM] [Warning] min_data_in_leaf is set=249, min_child_samples=20 will be ignored. Current value: min_data_in_leaf=249\n"
     ]
    },
    {
     "name": "stderr",
     "output_type": "stream",
     "text": [
      "  5%|▌         | 8/150 [00:19<04:50,  2.04s/it]"
     ]
    },
    {
     "name": "stdout",
     "output_type": "stream",
     "text": [
      "[LightGBM] [Warning] feature_fraction is set=0.1987236943773571, colsample_bytree=1.0 will be ignored. Current value: feature_fraction=0.1987236943773571\n",
      "[LightGBM] [Warning] min_data_in_leaf is set=232, min_child_samples=20 will be ignored. Current value: min_data_in_leaf=232\n"
     ]
    },
    {
     "name": "stderr",
     "output_type": "stream",
     "text": [
      "  6%|▌         | 9/150 [00:21<05:14,  2.23s/it]"
     ]
    },
    {
     "name": "stdout",
     "output_type": "stream",
     "text": [
      "[LightGBM] [Warning] feature_fraction is set=0.11587790083453446, colsample_bytree=1.0 will be ignored. Current value: feature_fraction=0.11587790083453446\n",
      "[LightGBM] [Warning] min_data_in_leaf is set=109, min_child_samples=20 will be ignored. Current value: min_data_in_leaf=109\n"
     ]
    },
    {
     "name": "stderr",
     "output_type": "stream",
     "text": [
      "  7%|▋         | 10/150 [00:24<05:16,  2.26s/it]"
     ]
    },
    {
     "name": "stdout",
     "output_type": "stream",
     "text": [
      "[LightGBM] [Warning] feature_fraction is set=0.9076657186345649, colsample_bytree=1.0 will be ignored. Current value: feature_fraction=0.9076657186345649\n",
      "[LightGBM] [Warning] min_data_in_leaf is set=6, min_child_samples=20 will be ignored. Current value: min_data_in_leaf=6\n",
      "[LightGBM] [Warning] feature_fraction is set=0.6873227444483069, colsample_bytree=1.0 will be ignored. Current value: feature_fraction=0.6873227444483069\n",
      "[LightGBM] [Warning] min_data_in_leaf is set=298, min_child_samples=20 will be ignored. Current value: min_data_in_leaf=298\n"
     ]
    },
    {
     "name": "stderr",
     "output_type": "stream",
     "text": [
      "  8%|▊         | 12/150 [00:24<03:05,  1.35s/it]"
     ]
    },
    {
     "name": "stdout",
     "output_type": "stream",
     "text": [
      "[LightGBM] [Warning] feature_fraction is set=0.6826481896251468, colsample_bytree=1.0 will be ignored. Current value: feature_fraction=0.6826481896251468\n",
      "[LightGBM] [Warning] min_data_in_leaf is set=271, min_child_samples=20 will be ignored. Current value: min_data_in_leaf=271\n"
     ]
    },
    {
     "name": "stderr",
     "output_type": "stream",
     "text": [
      "  9%|▊         | 13/150 [00:26<02:59,  1.31s/it]"
     ]
    },
    {
     "name": "stdout",
     "output_type": "stream",
     "text": [
      "[LightGBM] [Warning] feature_fraction is set=0.7034672322568181, colsample_bytree=1.0 will be ignored. Current value: feature_fraction=0.7034672322568181\n",
      "[LightGBM] [Warning] min_data_in_leaf is set=299, min_child_samples=20 will be ignored. Current value: min_data_in_leaf=299\n"
     ]
    },
    {
     "name": "stderr",
     "output_type": "stream",
     "text": [
      "  9%|▉         | 14/150 [00:26<02:25,  1.07s/it]"
     ]
    },
    {
     "name": "stdout",
     "output_type": "stream",
     "text": [
      "[LightGBM] [Warning] feature_fraction is set=0.729912907167533, colsample_bytree=1.0 will be ignored. Current value: feature_fraction=0.729912907167533\n",
      "[LightGBM] [Warning] min_data_in_leaf is set=147, min_child_samples=20 will be ignored. Current value: min_data_in_leaf=147\n"
     ]
    },
    {
     "name": "stderr",
     "output_type": "stream",
     "text": [
      " 10%|█         | 15/150 [00:27<02:16,  1.01s/it]"
     ]
    },
    {
     "name": "stdout",
     "output_type": "stream",
     "text": [
      "[LightGBM] [Warning] feature_fraction is set=0.9958976485339386, colsample_bytree=1.0 will be ignored. Current value: feature_fraction=0.9958976485339386\n",
      "[LightGBM] [Warning] min_data_in_leaf is set=16, min_child_samples=20 will be ignored. Current value: min_data_in_leaf=16\n"
     ]
    },
    {
     "name": "stderr",
     "output_type": "stream",
     "text": [
      " 11%|█         | 16/150 [00:27<01:45,  1.27it/s]"
     ]
    },
    {
     "name": "stdout",
     "output_type": "stream",
     "text": [
      "[LightGBM] [Warning] feature_fraction is set=0.8123676127061713, colsample_bytree=1.0 will be ignored. Current value: feature_fraction=0.8123676127061713\n",
      "[LightGBM] [Warning] min_data_in_leaf is set=142, min_child_samples=20 will be ignored. Current value: min_data_in_leaf=142\n"
     ]
    },
    {
     "name": "stderr",
     "output_type": "stream",
     "text": [
      " 11%|█▏        | 17/150 [00:31<03:35,  1.62s/it]"
     ]
    },
    {
     "name": "stdout",
     "output_type": "stream",
     "text": [
      "[LightGBM] [Warning] feature_fraction is set=0.5705329399171619, colsample_bytree=1.0 will be ignored. Current value: feature_fraction=0.5705329399171619\n",
      "[LightGBM] [Warning] min_data_in_leaf is set=44, min_child_samples=20 will be ignored. Current value: min_data_in_leaf=44\n"
     ]
    },
    {
     "name": "stderr",
     "output_type": "stream",
     "text": [
      " 12%|█▏        | 18/150 [00:32<03:33,  1.61s/it]"
     ]
    },
    {
     "name": "stdout",
     "output_type": "stream",
     "text": [
      "[LightGBM] [Warning] feature_fraction is set=0.6200654663461138, colsample_bytree=1.0 will be ignored. Current value: feature_fraction=0.6200654663461138\n",
      "[LightGBM] [Warning] min_data_in_leaf is set=259, min_child_samples=20 will be ignored. Current value: min_data_in_leaf=259\n"
     ]
    },
    {
     "name": "stderr",
     "output_type": "stream",
     "text": [
      " 13%|█▎        | 19/150 [00:33<02:39,  1.22s/it]"
     ]
    },
    {
     "name": "stdout",
     "output_type": "stream",
     "text": [
      "[LightGBM] [Warning] feature_fraction is set=0.8147178434990533, colsample_bytree=1.0 will be ignored. Current value: feature_fraction=0.8147178434990533\n",
      "[LightGBM] [Warning] min_data_in_leaf is set=126, min_child_samples=20 will be ignored. Current value: min_data_in_leaf=126\n"
     ]
    },
    {
     "name": "stderr",
     "output_type": "stream",
     "text": [
      " 13%|█▎        | 20/150 [00:34<02:27,  1.14s/it]"
     ]
    },
    {
     "name": "stdout",
     "output_type": "stream",
     "text": [
      "[LightGBM] [Warning] feature_fraction is set=0.779445447343154, colsample_bytree=1.0 will be ignored. Current value: feature_fraction=0.779445447343154\n",
      "[LightGBM] [Warning] min_data_in_leaf is set=68, min_child_samples=20 will be ignored. Current value: min_data_in_leaf=68\n"
     ]
    },
    {
     "name": "stderr",
     "output_type": "stream",
     "text": [
      " 14%|█▍        | 21/150 [00:36<03:17,  1.53s/it]"
     ]
    },
    {
     "name": "stdout",
     "output_type": "stream",
     "text": [
      "[LightGBM] [Warning] feature_fraction is set=0.8412072803882765, colsample_bytree=1.0 will be ignored. Current value: feature_fraction=0.8412072803882765\n",
      "[LightGBM] [Warning] min_data_in_leaf is set=171, min_child_samples=20 will be ignored. Current value: min_data_in_leaf=171\n"
     ]
    },
    {
     "name": "stderr",
     "output_type": "stream",
     "text": [
      " 15%|█▍        | 22/150 [00:39<04:25,  2.08s/it]"
     ]
    },
    {
     "name": "stdout",
     "output_type": "stream",
     "text": [
      "[LightGBM] [Warning] feature_fraction is set=0.6431649853802626, colsample_bytree=1.0 will be ignored. Current value: feature_fraction=0.6431649853802626\n",
      "[LightGBM] [Warning] min_data_in_leaf is set=146, min_child_samples=20 will be ignored. Current value: min_data_in_leaf=146\n"
     ]
    },
    {
     "name": "stderr",
     "output_type": "stream",
     "text": [
      " 15%|█▌        | 23/150 [00:41<04:08,  1.95s/it]"
     ]
    },
    {
     "name": "stdout",
     "output_type": "stream",
     "text": [
      "[LightGBM] [Warning] feature_fraction is set=0.6281325772675895, colsample_bytree=1.0 will be ignored. Current value: feature_fraction=0.6281325772675895\n",
      "[LightGBM] [Warning] min_data_in_leaf is set=224, min_child_samples=20 will be ignored. Current value: min_data_in_leaf=224\n"
     ]
    },
    {
     "name": "stderr",
     "output_type": "stream",
     "text": [
      " 16%|█▌        | 24/150 [00:43<03:49,  1.82s/it]"
     ]
    },
    {
     "name": "stdout",
     "output_type": "stream",
     "text": [
      "[LightGBM] [Warning] feature_fraction is set=0.6135125543493957, colsample_bytree=1.0 will be ignored. Current value: feature_fraction=0.6135125543493957\n",
      "[LightGBM] [Warning] min_data_in_leaf is set=224, min_child_samples=20 will be ignored. Current value: min_data_in_leaf=224\n"
     ]
    },
    {
     "name": "stderr",
     "output_type": "stream",
     "text": [
      " 17%|█▋        | 25/150 [00:44<03:43,  1.79s/it]"
     ]
    },
    {
     "name": "stdout",
     "output_type": "stream",
     "text": [
      "[LightGBM] [Warning] feature_fraction is set=0.4468252028921791, colsample_bytree=1.0 will be ignored. Current value: feature_fraction=0.4468252028921791\n",
      "[LightGBM] [Warning] min_data_in_leaf is set=202, min_child_samples=20 will be ignored. Current value: min_data_in_leaf=202\n"
     ]
    },
    {
     "name": "stderr",
     "output_type": "stream",
     "text": [
      " 17%|█▋        | 26/150 [00:45<02:49,  1.37s/it]"
     ]
    },
    {
     "name": "stdout",
     "output_type": "stream",
     "text": [
      "[LightGBM] [Warning] feature_fraction is set=0.9215471113456374, colsample_bytree=1.0 will be ignored. Current value: feature_fraction=0.9215471113456374\n",
      "[LightGBM] [Warning] min_data_in_leaf is set=30, min_child_samples=20 will be ignored. Current value: min_data_in_leaf=30\n"
     ]
    },
    {
     "name": "stderr",
     "output_type": "stream",
     "text": [
      " 18%|█▊        | 27/150 [00:45<02:21,  1.15s/it]"
     ]
    },
    {
     "name": "stdout",
     "output_type": "stream",
     "text": [
      "[LightGBM] [Warning] feature_fraction is set=0.5326136333436603, colsample_bytree=1.0 will be ignored. Current value: feature_fraction=0.5326136333436603\n",
      "[LightGBM] [Warning] min_data_in_leaf is set=163, min_child_samples=20 will be ignored. Current value: min_data_in_leaf=163\n"
     ]
    },
    {
     "name": "stderr",
     "output_type": "stream",
     "text": [
      " 19%|█▊        | 28/150 [00:46<01:57,  1.04it/s]"
     ]
    },
    {
     "name": "stdout",
     "output_type": "stream",
     "text": [
      "[LightGBM] [Warning] feature_fraction is set=0.2967871955502427, colsample_bytree=1.0 will be ignored. Current value: feature_fraction=0.2967871955502427\n",
      "[LightGBM] [Warning] min_data_in_leaf is set=125, min_child_samples=20 will be ignored. Current value: min_data_in_leaf=125\n"
     ]
    },
    {
     "name": "stderr",
     "output_type": "stream",
     "text": [
      " 19%|█▉        | 29/150 [00:46<01:43,  1.17it/s]"
     ]
    },
    {
     "name": "stdout",
     "output_type": "stream",
     "text": [
      "[LightGBM] [Warning] feature_fraction is set=0.6047817385853831, colsample_bytree=1.0 will be ignored. Current value: feature_fraction=0.6047817385853831\n",
      "[LightGBM] [Warning] min_data_in_leaf is set=64, min_child_samples=20 will be ignored. Current value: min_data_in_leaf=64\n"
     ]
    },
    {
     "name": "stderr",
     "output_type": "stream",
     "text": [
      " 20%|██        | 30/150 [00:53<05:17,  2.65s/it]"
     ]
    },
    {
     "name": "stdout",
     "output_type": "stream",
     "text": [
      "[LightGBM] [Warning] feature_fraction is set=0.7510907400999028, colsample_bytree=1.0 will be ignored. Current value: feature_fraction=0.7510907400999028\n",
      "[LightGBM] [Warning] min_data_in_leaf is set=222, min_child_samples=20 will be ignored. Current value: min_data_in_leaf=222\n"
     ]
    },
    {
     "name": "stderr",
     "output_type": "stream",
     "text": [
      " 21%|██        | 31/150 [00:54<04:05,  2.06s/it]"
     ]
    },
    {
     "name": "stdout",
     "output_type": "stream",
     "text": [
      "[LightGBM] [Warning] feature_fraction is set=0.6646164733336655, colsample_bytree=1.0 will be ignored. Current value: feature_fraction=0.6646164733336655\n",
      "[LightGBM] [Warning] min_data_in_leaf is set=273, min_child_samples=20 will be ignored. Current value: min_data_in_leaf=273\n"
     ]
    },
    {
     "name": "stderr",
     "output_type": "stream",
     "text": [
      " 21%|██▏       | 32/150 [00:55<03:39,  1.86s/it]"
     ]
    },
    {
     "name": "stdout",
     "output_type": "stream",
     "text": [
      "[LightGBM] [Warning] feature_fraction is set=0.6566009462287707, colsample_bytree=1.0 will be ignored. Current value: feature_fraction=0.6566009462287707\n",
      "[LightGBM] [Warning] min_data_in_leaf is set=261, min_child_samples=20 will be ignored. Current value: min_data_in_leaf=261\n"
     ]
    },
    {
     "name": "stderr",
     "output_type": "stream",
     "text": [
      " 22%|██▏       | 33/150 [00:56<03:04,  1.58s/it]"
     ]
    },
    {
     "name": "stdout",
     "output_type": "stream",
     "text": [
      "[LightGBM] [Warning] feature_fraction is set=0.4536358547125635, colsample_bytree=1.0 will be ignored. Current value: feature_fraction=0.4536358547125635\n",
      "[LightGBM] [Warning] min_data_in_leaf is set=247, min_child_samples=20 will be ignored. Current value: min_data_in_leaf=247\n"
     ]
    },
    {
     "name": "stderr",
     "output_type": "stream",
     "text": [
      " 23%|██▎       | 34/150 [00:57<02:38,  1.37s/it]"
     ]
    },
    {
     "name": "stdout",
     "output_type": "stream",
     "text": [
      "[LightGBM] [Warning] feature_fraction is set=0.851995324616944, colsample_bytree=1.0 will be ignored. Current value: feature_fraction=0.851995324616944\n",
      "[LightGBM] [Warning] min_data_in_leaf is set=200, min_child_samples=20 will be ignored. Current value: min_data_in_leaf=200\n"
     ]
    },
    {
     "name": "stderr",
     "output_type": "stream",
     "text": [
      " 23%|██▎       | 35/150 [00:59<02:49,  1.47s/it]"
     ]
    },
    {
     "name": "stdout",
     "output_type": "stream",
     "text": [
      "[LightGBM] [Warning] feature_fraction is set=0.6450466642255972, colsample_bytree=1.0 will be ignored. Current value: feature_fraction=0.6450466642255972\n",
      "[LightGBM] [Warning] min_data_in_leaf is set=197, min_child_samples=20 will be ignored. Current value: min_data_in_leaf=197\n"
     ]
    },
    {
     "name": "stderr",
     "output_type": "stream",
     "text": [
      " 24%|██▍       | 36/150 [01:00<02:45,  1.45s/it]"
     ]
    },
    {
     "name": "stdout",
     "output_type": "stream",
     "text": [
      "[LightGBM] [Warning] feature_fraction is set=0.5693220492046752, colsample_bytree=1.0 will be ignored. Current value: feature_fraction=0.5693220492046752\n",
      "[LightGBM] [Warning] min_data_in_leaf is set=211, min_child_samples=20 will be ignored. Current value: min_data_in_leaf=211\n"
     ]
    },
    {
     "name": "stderr",
     "output_type": "stream",
     "text": [
      " 25%|██▍       | 37/150 [01:02<03:00,  1.60s/it]"
     ]
    },
    {
     "name": "stdout",
     "output_type": "stream",
     "text": [
      "[LightGBM] [Warning] feature_fraction is set=0.5603217674721878, colsample_bytree=1.0 will be ignored. Current value: feature_fraction=0.5603217674721878\n",
      "[LightGBM] [Warning] min_data_in_leaf is set=215, min_child_samples=20 will be ignored. Current value: min_data_in_leaf=215\n"
     ]
    },
    {
     "name": "stderr",
     "output_type": "stream",
     "text": [
      " 25%|██▌       | 38/150 [01:03<02:32,  1.36s/it]"
     ]
    },
    {
     "name": "stdout",
     "output_type": "stream",
     "text": [
      "[LightGBM] [Warning] feature_fraction is set=0.47057601420007233, colsample_bytree=1.0 will be ignored. Current value: feature_fraction=0.47057601420007233\n",
      "[LightGBM] [Warning] min_data_in_leaf is set=187, min_child_samples=20 will be ignored. Current value: min_data_in_leaf=187\n"
     ]
    },
    {
     "name": "stderr",
     "output_type": "stream",
     "text": [
      " 26%|██▌       | 39/150 [01:05<02:51,  1.54s/it]"
     ]
    },
    {
     "name": "stdout",
     "output_type": "stream",
     "text": [
      "[LightGBM] [Warning] feature_fraction is set=0.9979898978418711, colsample_bytree=1.0 will be ignored. Current value: feature_fraction=0.9979898978418711\n",
      "[LightGBM] [Warning] min_data_in_leaf is set=236, min_child_samples=20 will be ignored. Current value: min_data_in_leaf=236\n"
     ]
    },
    {
     "name": "stderr",
     "output_type": "stream",
     "text": [
      " 27%|██▋       | 40/150 [01:05<02:14,  1.22s/it]"
     ]
    },
    {
     "name": "stdout",
     "output_type": "stream",
     "text": [
      "[LightGBM] [Warning] feature_fraction is set=0.3831800728884148, colsample_bytree=1.0 will be ignored. Current value: feature_fraction=0.3831800728884148\n",
      "[LightGBM] [Warning] min_data_in_leaf is set=276, min_child_samples=20 will be ignored. Current value: min_data_in_leaf=276\n"
     ]
    },
    {
     "name": "stderr",
     "output_type": "stream",
     "text": [
      " 27%|██▋       | 41/150 [01:07<02:16,  1.25s/it]"
     ]
    },
    {
     "name": "stdout",
     "output_type": "stream",
     "text": [
      "[LightGBM] [Warning] feature_fraction is set=0.02536634487344247, colsample_bytree=1.0 will be ignored. Current value: feature_fraction=0.02536634487344247\n",
      "[LightGBM] [Warning] min_data_in_leaf is set=162, min_child_samples=20 will be ignored. Current value: min_data_in_leaf=162\n"
     ]
    },
    {
     "name": "stderr",
     "output_type": "stream",
     "text": [
      " 28%|██▊       | 42/150 [01:08<01:59,  1.10s/it]"
     ]
    },
    {
     "name": "stdout",
     "output_type": "stream",
     "text": [
      "[LightGBM] [Warning] feature_fraction is set=0.5013017392268848, colsample_bytree=1.0 will be ignored. Current value: feature_fraction=0.5013017392268848\n",
      "[LightGBM] [Warning] min_data_in_leaf is set=190, min_child_samples=20 will be ignored. Current value: min_data_in_leaf=190\n"
     ]
    },
    {
     "name": "stderr",
     "output_type": "stream",
     "text": [
      " 29%|██▊       | 43/150 [01:09<02:24,  1.35s/it]"
     ]
    },
    {
     "name": "stdout",
     "output_type": "stream",
     "text": [
      "[LightGBM] [Warning] feature_fraction is set=0.5753225654630895, colsample_bytree=1.0 will be ignored. Current value: feature_fraction=0.5753225654630895\n",
      "[LightGBM] [Warning] min_data_in_leaf is set=242, min_child_samples=20 will be ignored. Current value: min_data_in_leaf=242\n"
     ]
    },
    {
     "name": "stderr",
     "output_type": "stream",
     "text": [
      " 29%|██▉       | 44/150 [01:12<02:56,  1.67s/it]"
     ]
    },
    {
     "name": "stdout",
     "output_type": "stream",
     "text": [
      "[LightGBM] [Warning] feature_fraction is set=0.7645874117012252, colsample_bytree=1.0 will be ignored. Current value: feature_fraction=0.7645874117012252\n",
      "[LightGBM] [Warning] min_data_in_leaf is set=208, min_child_samples=20 will be ignored. Current value: min_data_in_leaf=208\n"
     ]
    },
    {
     "name": "stderr",
     "output_type": "stream",
     "text": [
      " 30%|███       | 45/150 [01:12<02:10,  1.24s/it]"
     ]
    },
    {
     "name": "stdout",
     "output_type": "stream",
     "text": [
      "[LightGBM] [Warning] feature_fraction is set=0.8614777587759097, colsample_bytree=1.0 will be ignored. Current value: feature_fraction=0.8614777587759097\n",
      "[LightGBM] [Warning] min_data_in_leaf is set=261, min_child_samples=20 will be ignored. Current value: min_data_in_leaf=261\n"
     ]
    },
    {
     "name": "stderr",
     "output_type": "stream",
     "text": [
      " 31%|███       | 46/150 [01:13<02:12,  1.27s/it]"
     ]
    },
    {
     "name": "stdout",
     "output_type": "stream",
     "text": [
      "[LightGBM] [Warning] feature_fraction is set=0.37326543461477235, colsample_bytree=1.0 will be ignored. Current value: feature_fraction=0.37326543461477235\n",
      "[LightGBM] [Warning] min_data_in_leaf is set=227, min_child_samples=20 will be ignored. Current value: min_data_in_leaf=227\n"
     ]
    },
    {
     "name": "stderr",
     "output_type": "stream",
     "text": [
      " 31%|███▏      | 47/150 [01:19<04:32,  2.64s/it]"
     ]
    },
    {
     "name": "stdout",
     "output_type": "stream",
     "text": [
      "[LightGBM] [Warning] feature_fraction is set=0.7147742164713228, colsample_bytree=1.0 will be ignored. Current value: feature_fraction=0.7147742164713228\n",
      "[LightGBM] [Warning] min_data_in_leaf is set=175, min_child_samples=20 will be ignored. Current value: min_data_in_leaf=175\n"
     ]
    },
    {
     "name": "stderr",
     "output_type": "stream",
     "text": [
      " 32%|███▏      | 48/150 [01:20<03:19,  1.95s/it]"
     ]
    },
    {
     "name": "stdout",
     "output_type": "stream",
     "text": [
      "[LightGBM] [Warning] feature_fraction is set=0.6481609465228528, colsample_bytree=1.0 will be ignored. Current value: feature_fraction=0.6481609465228528\n",
      "[LightGBM] [Warning] min_data_in_leaf is set=283, min_child_samples=20 will be ignored. Current value: min_data_in_leaf=283\n"
     ]
    },
    {
     "name": "stderr",
     "output_type": "stream",
     "text": [
      " 33%|███▎      | 49/150 [01:21<03:12,  1.91s/it]"
     ]
    },
    {
     "name": "stdout",
     "output_type": "stream",
     "text": [
      "[LightGBM] [Warning] feature_fraction is set=0.5105943201357789, colsample_bytree=1.0 will be ignored. Current value: feature_fraction=0.5105943201357789\n",
      "[LightGBM] [Warning] min_data_in_leaf is set=137, min_child_samples=20 will be ignored. Current value: min_data_in_leaf=137\n"
     ]
    },
    {
     "name": "stderr",
     "output_type": "stream",
     "text": [
      " 33%|███▎      | 50/150 [01:22<02:36,  1.57s/it]"
     ]
    },
    {
     "name": "stdout",
     "output_type": "stream",
     "text": [
      "[LightGBM] [Warning] feature_fraction is set=0.2810059337485366, colsample_bytree=1.0 will be ignored. Current value: feature_fraction=0.2810059337485366\n",
      "[LightGBM] [Warning] min_data_in_leaf is set=257, min_child_samples=20 will be ignored. Current value: min_data_in_leaf=257\n"
     ]
    },
    {
     "name": "stderr",
     "output_type": "stream",
     "text": [
      " 34%|███▍      | 51/150 [01:23<02:17,  1.39s/it]"
     ]
    },
    {
     "name": "stdout",
     "output_type": "stream",
     "text": [
      "[LightGBM] [Warning] feature_fraction is set=0.8560918419249015, colsample_bytree=1.0 will be ignored. Current value: feature_fraction=0.8560918419249015\n",
      "[LightGBM] [Warning] min_data_in_leaf is set=96, min_child_samples=20 will be ignored. Current value: min_data_in_leaf=96\n"
     ]
    },
    {
     "name": "stderr",
     "output_type": "stream",
     "text": [
      " 35%|███▍      | 52/150 [01:27<03:30,  2.14s/it]"
     ]
    },
    {
     "name": "stdout",
     "output_type": "stream",
     "text": [
      "[LightGBM] [Warning] feature_fraction is set=0.9066974201290453, colsample_bytree=1.0 will be ignored. Current value: feature_fraction=0.9066974201290453\n",
      "[LightGBM] [Warning] min_data_in_leaf is set=92, min_child_samples=20 will be ignored. Current value: min_data_in_leaf=92\n"
     ]
    },
    {
     "name": "stderr",
     "output_type": "stream",
     "text": [
      " 35%|███▌      | 53/150 [01:28<02:55,  1.81s/it]"
     ]
    },
    {
     "name": "stdout",
     "output_type": "stream",
     "text": [
      "[LightGBM] [Warning] feature_fraction is set=0.8002220469704355, colsample_bytree=1.0 will be ignored. Current value: feature_fraction=0.8002220469704355\n",
      "[LightGBM] [Warning] min_data_in_leaf is set=111, min_child_samples=20 will be ignored. Current value: min_data_in_leaf=111\n"
     ]
    },
    {
     "name": "stderr",
     "output_type": "stream",
     "text": [
      " 36%|███▌      | 54/150 [01:31<03:29,  2.18s/it]"
     ]
    },
    {
     "name": "stdout",
     "output_type": "stream",
     "text": [
      "[LightGBM] [Warning] feature_fraction is set=0.7258291729449009, colsample_bytree=1.0 will be ignored. Current value: feature_fraction=0.7258291729449009\n",
      "[LightGBM] [Warning] min_data_in_leaf is set=110, min_child_samples=20 will be ignored. Current value: min_data_in_leaf=110\n"
     ]
    },
    {
     "name": "stderr",
     "output_type": "stream",
     "text": [
      " 37%|███▋      | 55/150 [01:35<04:05,  2.58s/it]"
     ]
    },
    {
     "name": "stdout",
     "output_type": "stream",
     "text": [
      "[LightGBM] [Warning] feature_fraction is set=0.8840205861306367, colsample_bytree=1.0 will be ignored. Current value: feature_fraction=0.8840205861306367\n",
      "[LightGBM] [Warning] min_data_in_leaf is set=210, min_child_samples=20 will be ignored. Current value: min_data_in_leaf=210\n"
     ]
    },
    {
     "name": "stderr",
     "output_type": "stream",
     "text": [
      " 37%|███▋      | 56/150 [01:38<04:34,  2.92s/it]"
     ]
    },
    {
     "name": "stdout",
     "output_type": "stream",
     "text": [
      "[LightGBM] [Warning] feature_fraction is set=0.9600570452050746, colsample_bytree=1.0 will be ignored. Current value: feature_fraction=0.9600570452050746\n",
      "[LightGBM] [Warning] min_data_in_leaf is set=160, min_child_samples=20 will be ignored. Current value: min_data_in_leaf=160\n"
     ]
    },
    {
     "name": "stderr",
     "output_type": "stream",
     "text": [
      " 38%|███▊      | 57/150 [01:39<03:20,  2.16s/it]"
     ]
    },
    {
     "name": "stdout",
     "output_type": "stream",
     "text": [
      "[LightGBM] [Warning] feature_fraction is set=0.6770157487021061, colsample_bytree=1.0 will be ignored. Current value: feature_fraction=0.6770157487021061\n",
      "[LightGBM] [Warning] min_data_in_leaf is set=196, min_child_samples=20 will be ignored. Current value: min_data_in_leaf=196\n"
     ]
    },
    {
     "name": "stderr",
     "output_type": "stream",
     "text": [
      " 39%|███▊      | 58/150 [01:40<02:50,  1.85s/it]"
     ]
    },
    {
     "name": "stdout",
     "output_type": "stream",
     "text": [
      "[LightGBM] [Warning] feature_fraction is set=0.543423373592205, colsample_bytree=1.0 will be ignored. Current value: feature_fraction=0.543423373592205\n",
      "[LightGBM] [Warning] min_data_in_leaf is set=181, min_child_samples=20 will be ignored. Current value: min_data_in_leaf=181\n"
     ]
    },
    {
     "name": "stderr",
     "output_type": "stream",
     "text": [
      " 39%|███▉      | 59/150 [01:45<04:26,  2.93s/it]"
     ]
    },
    {
     "name": "stdout",
     "output_type": "stream",
     "text": [
      "[LightGBM] [Warning] feature_fraction is set=0.6001002542785308, colsample_bytree=1.0 will be ignored. Current value: feature_fraction=0.6001002542785308\n",
      "[LightGBM] [Warning] min_data_in_leaf is set=82, min_child_samples=20 will be ignored. Current value: min_data_in_leaf=82\n"
     ]
    },
    {
     "name": "stderr",
     "output_type": "stream",
     "text": [
      " 40%|████      | 60/150 [01:47<03:53,  2.59s/it]"
     ]
    },
    {
     "name": "stdout",
     "output_type": "stream",
     "text": [
      "[LightGBM] [Warning] feature_fraction is set=0.8470819643312384, colsample_bytree=1.0 will be ignored. Current value: feature_fraction=0.8470819643312384\n",
      "[LightGBM] [Warning] min_data_in_leaf is set=235, min_child_samples=20 will be ignored. Current value: min_data_in_leaf=235\n"
     ]
    },
    {
     "name": "stderr",
     "output_type": "stream",
     "text": [
      " 41%|████      | 61/150 [01:48<02:52,  1.94s/it]"
     ]
    },
    {
     "name": "stdout",
     "output_type": "stream",
     "text": [
      "[LightGBM] [Warning] feature_fraction is set=0.94863525603532, colsample_bytree=1.0 will be ignored. Current value: feature_fraction=0.94863525603532\n",
      "[LightGBM] [Warning] min_data_in_leaf is set=24, min_child_samples=20 will be ignored. Current value: min_data_in_leaf=24\n"
     ]
    },
    {
     "name": "stderr",
     "output_type": "stream",
     "text": [
      " 41%|████▏     | 62/150 [01:50<03:13,  2.19s/it]"
     ]
    },
    {
     "name": "stdout",
     "output_type": "stream",
     "text": [
      "[LightGBM] [Warning] feature_fraction is set=0.8250056689194415, colsample_bytree=1.0 will be ignored. Current value: feature_fraction=0.8250056689194415\n",
      "[LightGBM] [Warning] min_data_in_leaf is set=29, min_child_samples=20 will be ignored. Current value: min_data_in_leaf=29\n"
     ]
    },
    {
     "name": "stderr",
     "output_type": "stream",
     "text": [
      " 42%|████▏     | 63/150 [01:52<02:54,  2.00s/it]"
     ]
    },
    {
     "name": "stdout",
     "output_type": "stream",
     "text": [
      "[LightGBM] [Warning] feature_fraction is set=0.9480642206165296, colsample_bytree=1.0 will be ignored. Current value: feature_fraction=0.9480642206165296\n",
      "[LightGBM] [Warning] min_data_in_leaf is set=40, min_child_samples=20 will be ignored. Current value: min_data_in_leaf=40\n"
     ]
    },
    {
     "name": "stderr",
     "output_type": "stream",
     "text": [
      " 43%|████▎     | 64/150 [01:54<02:47,  1.94s/it]"
     ]
    },
    {
     "name": "stdout",
     "output_type": "stream",
     "text": [
      "[LightGBM] [Warning] feature_fraction is set=0.9551033765492695, colsample_bytree=1.0 will be ignored. Current value: feature_fraction=0.9551033765492695\n",
      "[LightGBM] [Warning] min_data_in_leaf is set=9, min_child_samples=20 will be ignored. Current value: min_data_in_leaf=9\n"
     ]
    },
    {
     "name": "stderr",
     "output_type": "stream",
     "text": [
      " 43%|████▎     | 65/150 [01:55<02:31,  1.78s/it]"
     ]
    },
    {
     "name": "stdout",
     "output_type": "stream",
     "text": [
      "[LightGBM] [Warning] feature_fraction is set=0.8159985476449438, colsample_bytree=1.0 will be ignored. Current value: feature_fraction=0.8159985476449438\n",
      "[LightGBM] [Warning] min_data_in_leaf is set=25, min_child_samples=20 will be ignored. Current value: min_data_in_leaf=25\n"
     ]
    },
    {
     "name": "stderr",
     "output_type": "stream",
     "text": [
      " 44%|████▍     | 66/150 [01:57<02:42,  1.94s/it]"
     ]
    },
    {
     "name": "stdout",
     "output_type": "stream",
     "text": [
      "[LightGBM] [Warning] feature_fraction is set=0.8928386201573971, colsample_bytree=1.0 will be ignored. Current value: feature_fraction=0.8928386201573971\n",
      "[LightGBM] [Warning] min_data_in_leaf is set=2, min_child_samples=20 will be ignored. Current value: min_data_in_leaf=2\n"
     ]
    },
    {
     "name": "stderr",
     "output_type": "stream",
     "text": [
      " 45%|████▍     | 67/150 [01:59<02:37,  1.90s/it]"
     ]
    },
    {
     "name": "stdout",
     "output_type": "stream",
     "text": [
      "[LightGBM] [Warning] feature_fraction is set=0.761293992210335, colsample_bytree=1.0 will be ignored. Current value: feature_fraction=0.761293992210335\n",
      "[LightGBM] [Warning] min_data_in_leaf is set=79, min_child_samples=20 will be ignored. Current value: min_data_in_leaf=79\n"
     ]
    },
    {
     "name": "stderr",
     "output_type": "stream",
     "text": [
      " 45%|████▌     | 68/150 [02:00<02:08,  1.57s/it]"
     ]
    },
    {
     "name": "stdout",
     "output_type": "stream",
     "text": [
      "[LightGBM] [Warning] feature_fraction is set=0.8406739916890199, colsample_bytree=1.0 will be ignored. Current value: feature_fraction=0.8406739916890199\n",
      "[LightGBM] [Warning] min_data_in_leaf is set=53, min_child_samples=20 will be ignored. Current value: min_data_in_leaf=53\n"
     ]
    },
    {
     "name": "stderr",
     "output_type": "stream",
     "text": [
      " 46%|████▌     | 69/150 [02:03<02:51,  2.11s/it]"
     ]
    },
    {
     "name": "stdout",
     "output_type": "stream",
     "text": [
      "[LightGBM] [Warning] feature_fraction is set=0.7939703621996258, colsample_bytree=1.0 will be ignored. Current value: feature_fraction=0.7939703621996258\n",
      "[LightGBM] [Warning] min_data_in_leaf is set=47, min_child_samples=20 will be ignored. Current value: min_data_in_leaf=47\n"
     ]
    },
    {
     "name": "stderr",
     "output_type": "stream",
     "text": [
      " 47%|████▋     | 70/150 [02:09<04:01,  3.02s/it]"
     ]
    },
    {
     "name": "stdout",
     "output_type": "stream",
     "text": [
      "[LightGBM] [Warning] feature_fraction is set=0.6961531485277115, colsample_bytree=1.0 will be ignored. Current value: feature_fraction=0.6961531485277115\n",
      "[LightGBM] [Warning] min_data_in_leaf is set=35, min_child_samples=20 will be ignored. Current value: min_data_in_leaf=35\n"
     ]
    },
    {
     "name": "stderr",
     "output_type": "stream",
     "text": [
      " 47%|████▋     | 71/150 [02:12<04:00,  3.04s/it]"
     ]
    },
    {
     "name": "stdout",
     "output_type": "stream",
     "text": [
      "[LightGBM] [Warning] feature_fraction is set=0.7011921725717318, colsample_bytree=1.0 will be ignored. Current value: feature_fraction=0.7011921725717318\n",
      "[LightGBM] [Warning] min_data_in_leaf is set=34, min_child_samples=20 will be ignored. Current value: min_data_in_leaf=34\n"
     ]
    },
    {
     "name": "stderr",
     "output_type": "stream",
     "text": [
      " 48%|████▊     | 72/150 [02:15<03:54,  3.01s/it]"
     ]
    },
    {
     "name": "stdout",
     "output_type": "stream",
     "text": [
      "[LightGBM] [Warning] feature_fraction is set=0.6951718351233518, colsample_bytree=1.0 will be ignored. Current value: feature_fraction=0.6951718351233518\n",
      "[LightGBM] [Warning] min_data_in_leaf is set=32, min_child_samples=20 will be ignored. Current value: min_data_in_leaf=32\n"
     ]
    },
    {
     "name": "stderr",
     "output_type": "stream",
     "text": [
      " 49%|████▊     | 73/150 [02:18<03:59,  3.11s/it]"
     ]
    },
    {
     "name": "stdout",
     "output_type": "stream",
     "text": [
      "[LightGBM] [Warning] feature_fraction is set=0.7367927593194012, colsample_bytree=1.0 will be ignored. Current value: feature_fraction=0.7367927593194012\n",
      "[LightGBM] [Warning] min_data_in_leaf is set=15, min_child_samples=20 will be ignored. Current value: min_data_in_leaf=15\n"
     ]
    },
    {
     "name": "stderr",
     "output_type": "stream",
     "text": [
      " 49%|████▉     | 74/150 [02:22<04:07,  3.26s/it]"
     ]
    },
    {
     "name": "stdout",
     "output_type": "stream",
     "text": [
      "[LightGBM] [Warning] feature_fraction is set=0.7088928869766462, colsample_bytree=1.0 will be ignored. Current value: feature_fraction=0.7088928869766462\n",
      "[LightGBM] [Warning] min_data_in_leaf is set=36, min_child_samples=20 will be ignored. Current value: min_data_in_leaf=36\n"
     ]
    },
    {
     "name": "stderr",
     "output_type": "stream",
     "text": [
      " 50%|█████     | 75/150 [02:24<03:53,  3.12s/it]"
     ]
    },
    {
     "name": "stdout",
     "output_type": "stream",
     "text": [
      "[LightGBM] [Warning] feature_fraction is set=0.695650659365813, colsample_bytree=1.0 will be ignored. Current value: feature_fraction=0.695650659365813\n",
      "[LightGBM] [Warning] min_data_in_leaf is set=35, min_child_samples=20 will be ignored. Current value: min_data_in_leaf=35\n"
     ]
    },
    {
     "name": "stderr",
     "output_type": "stream",
     "text": [
      " 51%|█████     | 76/150 [02:27<03:43,  3.01s/it]"
     ]
    },
    {
     "name": "stdout",
     "output_type": "stream",
     "text": [
      "[LightGBM] [Warning] feature_fraction is set=0.6286331014839096, colsample_bytree=1.0 will be ignored. Current value: feature_fraction=0.6286331014839096\n",
      "[LightGBM] [Warning] min_data_in_leaf is set=60, min_child_samples=20 will be ignored. Current value: min_data_in_leaf=60\n"
     ]
    },
    {
     "name": "stderr",
     "output_type": "stream",
     "text": [
      " 51%|█████▏    | 77/150 [02:30<03:41,  3.04s/it]"
     ]
    },
    {
     "name": "stdout",
     "output_type": "stream",
     "text": [
      "[LightGBM] [Warning] feature_fraction is set=0.5944766646870037, colsample_bytree=1.0 will be ignored. Current value: feature_fraction=0.5944766646870037\n",
      "[LightGBM] [Warning] min_data_in_leaf is set=70, min_child_samples=20 will be ignored. Current value: min_data_in_leaf=70\n"
     ]
    },
    {
     "name": "stderr",
     "output_type": "stream",
     "text": [
      " 52%|█████▏    | 78/150 [02:31<02:46,  2.32s/it]"
     ]
    },
    {
     "name": "stdout",
     "output_type": "stream",
     "text": [
      "[LightGBM] [Warning] feature_fraction is set=0.6595067024539181, colsample_bytree=1.0 will be ignored. Current value: feature_fraction=0.6595067024539181\n",
      "[LightGBM] [Warning] min_data_in_leaf is set=36, min_child_samples=20 will be ignored. Current value: min_data_in_leaf=36\n"
     ]
    },
    {
     "name": "stderr",
     "output_type": "stream",
     "text": [
      " 53%|█████▎    | 79/150 [02:33<02:32,  2.15s/it]"
     ]
    },
    {
     "name": "stdout",
     "output_type": "stream",
     "text": [
      "[LightGBM] [Warning] feature_fraction is set=0.6551702261197528, colsample_bytree=1.0 will be ignored. Current value: feature_fraction=0.6551702261197528\n",
      "[LightGBM] [Warning] min_data_in_leaf is set=52, min_child_samples=20 will be ignored. Current value: min_data_in_leaf=52\n"
     ]
    },
    {
     "name": "stderr",
     "output_type": "stream",
     "text": [
      " 53%|█████▎    | 80/150 [02:34<02:18,  1.98s/it]"
     ]
    },
    {
     "name": "stdout",
     "output_type": "stream",
     "text": [
      "[LightGBM] [Warning] feature_fraction is set=0.6718813518084569, colsample_bytree=1.0 will be ignored. Current value: feature_fraction=0.6718813518084569\n",
      "[LightGBM] [Warning] min_data_in_leaf is set=46, min_child_samples=20 will be ignored. Current value: min_data_in_leaf=46\n",
      "[LightGBM] [Warning] feature_fraction is set=0.6474859569635594, colsample_bytree=1.0 will be ignored. Current value: feature_fraction=0.6474859569635594\n",
      "[LightGBM] [Warning] min_data_in_leaf is set=15, min_child_samples=20 will be ignored. Current value: min_data_in_leaf=15\n"
     ]
    },
    {
     "name": "stderr",
     "output_type": "stream",
     "text": [
      " 55%|█████▍    | 82/150 [02:36<01:33,  1.38s/it]"
     ]
    },
    {
     "name": "stdout",
     "output_type": "stream",
     "text": [
      "[LightGBM] [Warning] feature_fraction is set=0.580465496327779, colsample_bytree=1.0 will be ignored. Current value: feature_fraction=0.580465496327779\n",
      "[LightGBM] [Warning] min_data_in_leaf is set=29, min_child_samples=20 will be ignored. Current value: min_data_in_leaf=29\n"
     ]
    },
    {
     "name": "stderr",
     "output_type": "stream",
     "text": [
      " 55%|█████▌    | 83/150 [02:38<01:55,  1.73s/it]"
     ]
    },
    {
     "name": "stdout",
     "output_type": "stream",
     "text": [
      "[LightGBM] [Warning] feature_fraction is set=0.5504678709712235, colsample_bytree=1.0 will be ignored. Current value: feature_fraction=0.5504678709712235\n",
      "[LightGBM] [Warning] min_data_in_leaf is set=53, min_child_samples=20 will be ignored. Current value: min_data_in_leaf=53\n"
     ]
    },
    {
     "name": "stderr",
     "output_type": "stream",
     "text": [
      " 56%|█████▌    | 84/150 [02:41<02:03,  1.87s/it]"
     ]
    },
    {
     "name": "stdout",
     "output_type": "stream",
     "text": [
      "[LightGBM] [Warning] feature_fraction is set=0.6908387607085941, colsample_bytree=1.0 will be ignored. Current value: feature_fraction=0.6908387607085941\n",
      "[LightGBM] [Warning] min_data_in_leaf is set=24, min_child_samples=20 will be ignored. Current value: min_data_in_leaf=24\n"
     ]
    },
    {
     "name": "stderr",
     "output_type": "stream",
     "text": [
      " 57%|█████▋    | 85/150 [02:42<01:53,  1.74s/it]"
     ]
    },
    {
     "name": "stdout",
     "output_type": "stream",
     "text": [
      "[LightGBM] [Warning] feature_fraction is set=0.6209771189185996, colsample_bytree=1.0 will be ignored. Current value: feature_fraction=0.6209771189185996\n",
      "[LightGBM] [Warning] min_data_in_leaf is set=291, min_child_samples=20 will be ignored. Current value: min_data_in_leaf=291\n"
     ]
    },
    {
     "name": "stderr",
     "output_type": "stream",
     "text": [
      " 57%|█████▋    | 86/150 [02:43<01:43,  1.61s/it]"
     ]
    },
    {
     "name": "stdout",
     "output_type": "stream",
     "text": [
      "[LightGBM] [Warning] feature_fraction is set=0.749923296812772, colsample_bytree=1.0 will be ignored. Current value: feature_fraction=0.749923296812772\n",
      "[LightGBM] [Warning] min_data_in_leaf is set=35, min_child_samples=20 will be ignored. Current value: min_data_in_leaf=35\n"
     ]
    },
    {
     "name": "stderr",
     "output_type": "stream",
     "text": [
      " 58%|█████▊    | 87/150 [02:44<01:20,  1.28s/it]"
     ]
    },
    {
     "name": "stdout",
     "output_type": "stream",
     "text": [
      "[LightGBM] [Warning] feature_fraction is set=0.6639729816658705, colsample_bytree=1.0 will be ignored. Current value: feature_fraction=0.6639729816658705\n",
      "[LightGBM] [Warning] min_data_in_leaf is set=70, min_child_samples=20 will be ignored. Current value: min_data_in_leaf=70\n"
     ]
    },
    {
     "name": "stderr",
     "output_type": "stream",
     "text": [
      " 59%|█████▊    | 88/150 [02:44<01:02,  1.01s/it]"
     ]
    },
    {
     "name": "stdout",
     "output_type": "stream",
     "text": [
      "[LightGBM] [Warning] feature_fraction is set=0.6274520061477294, colsample_bytree=1.0 will be ignored. Current value: feature_fraction=0.6274520061477294\n",
      "[LightGBM] [Warning] min_data_in_leaf is set=8, min_child_samples=20 will be ignored. Current value: min_data_in_leaf=8\n"
     ]
    },
    {
     "name": "stderr",
     "output_type": "stream",
     "text": [
      " 59%|█████▉    | 89/150 [02:46<01:12,  1.19s/it]"
     ]
    },
    {
     "name": "stdout",
     "output_type": "stream",
     "text": [
      "[LightGBM] [Warning] feature_fraction is set=0.4138156090725757, colsample_bytree=1.0 will be ignored. Current value: feature_fraction=0.4138156090725757\n",
      "[LightGBM] [Warning] min_data_in_leaf is set=48, min_child_samples=20 will be ignored. Current value: min_data_in_leaf=48\n"
     ]
    },
    {
     "name": "stderr",
     "output_type": "stream",
     "text": [
      " 60%|██████    | 90/150 [02:47<01:19,  1.32s/it]"
     ]
    },
    {
     "name": "stdout",
     "output_type": "stream",
     "text": [
      "[LightGBM] [Warning] feature_fraction is set=0.4770159330563489, colsample_bytree=1.0 will be ignored. Current value: feature_fraction=0.4770159330563489\n",
      "[LightGBM] [Warning] min_data_in_leaf is set=19, min_child_samples=20 will be ignored. Current value: min_data_in_leaf=19\n"
     ]
    },
    {
     "name": "stderr",
     "output_type": "stream",
     "text": [
      " 61%|██████    | 91/150 [02:50<01:41,  1.71s/it]"
     ]
    },
    {
     "name": "stdout",
     "output_type": "stream",
     "text": [
      "[LightGBM] [Warning] feature_fraction is set=0.716620382214004, colsample_bytree=1.0 will be ignored. Current value: feature_fraction=0.716620382214004\n",
      "[LightGBM] [Warning] min_data_in_leaf is set=34, min_child_samples=20 will be ignored. Current value: min_data_in_leaf=34\n"
     ]
    },
    {
     "name": "stderr",
     "output_type": "stream",
     "text": [
      " 61%|██████▏   | 92/150 [02:52<01:45,  1.82s/it]"
     ]
    },
    {
     "name": "stdout",
     "output_type": "stream",
     "text": [
      "[LightGBM] [Warning] feature_fraction is set=0.7806448237164392, colsample_bytree=1.0 will be ignored. Current value: feature_fraction=0.7806448237164392\n",
      "[LightGBM] [Warning] min_data_in_leaf is set=42, min_child_samples=20 will be ignored. Current value: min_data_in_leaf=42\n"
     ]
    },
    {
     "name": "stderr",
     "output_type": "stream",
     "text": [
      " 62%|██████▏   | 93/150 [02:55<01:57,  2.07s/it]"
     ]
    },
    {
     "name": "stdout",
     "output_type": "stream",
     "text": [
      "[LightGBM] [Warning] feature_fraction is set=0.7840849972994531, colsample_bytree=1.0 will be ignored. Current value: feature_fraction=0.7840849972994531\n",
      "[LightGBM] [Warning] min_data_in_leaf is set=41, min_child_samples=20 will be ignored. Current value: min_data_in_leaf=41\n"
     ]
    },
    {
     "name": "stderr",
     "output_type": "stream",
     "text": [
      " 63%|██████▎   | 94/150 [02:57<02:01,  2.16s/it]"
     ]
    },
    {
     "name": "stdout",
     "output_type": "stream",
     "text": [
      "[LightGBM] [Warning] feature_fraction is set=0.7405049236547563, colsample_bytree=1.0 will be ignored. Current value: feature_fraction=0.7405049236547563\n",
      "[LightGBM] [Warning] min_data_in_leaf is set=58, min_child_samples=20 will be ignored. Current value: min_data_in_leaf=58\n"
     ]
    },
    {
     "name": "stderr",
     "output_type": "stream",
     "text": [
      " 63%|██████▎   | 95/150 [03:00<02:08,  2.33s/it]"
     ]
    },
    {
     "name": "stdout",
     "output_type": "stream",
     "text": [
      "[LightGBM] [Warning] feature_fraction is set=0.6616648048326296, colsample_bytree=1.0 will be ignored. Current value: feature_fraction=0.6616648048326296\n",
      "[LightGBM] [Warning] min_data_in_leaf is set=29, min_child_samples=20 will be ignored. Current value: min_data_in_leaf=29\n"
     ]
    },
    {
     "name": "stderr",
     "output_type": "stream",
     "text": [
      " 64%|██████▍   | 96/150 [03:02<01:55,  2.15s/it]"
     ]
    },
    {
     "name": "stdout",
     "output_type": "stream",
     "text": [
      "[LightGBM] [Warning] feature_fraction is set=0.5261442198909181, colsample_bytree=1.0 will be ignored. Current value: feature_fraction=0.5261442198909181\n",
      "[LightGBM] [Warning] min_data_in_leaf is set=52, min_child_samples=20 will be ignored. Current value: min_data_in_leaf=52\n"
     ]
    },
    {
     "name": "stderr",
     "output_type": "stream",
     "text": [
      " 65%|██████▍   | 97/150 [03:02<01:30,  1.70s/it]"
     ]
    },
    {
     "name": "stdout",
     "output_type": "stream",
     "text": [
      "[LightGBM] [Warning] feature_fraction is set=0.6955923758713249, colsample_bytree=1.0 will be ignored. Current value: feature_fraction=0.6955923758713249\n",
      "[LightGBM] [Warning] min_data_in_leaf is set=215, min_child_samples=20 will be ignored. Current value: min_data_in_leaf=215\n"
     ]
    },
    {
     "name": "stderr",
     "output_type": "stream",
     "text": [
      " 65%|██████▌   | 98/150 [03:05<01:47,  2.06s/it]"
     ]
    },
    {
     "name": "stdout",
     "output_type": "stream",
     "text": [
      "[LightGBM] [Warning] feature_fraction is set=0.7747647477778115, colsample_bytree=1.0 will be ignored. Current value: feature_fraction=0.7747647477778115\n",
      "[LightGBM] [Warning] min_data_in_leaf is set=18, min_child_samples=20 will be ignored. Current value: min_data_in_leaf=18\n"
     ]
    },
    {
     "name": "stderr",
     "output_type": "stream",
     "text": [
      " 66%|██████▌   | 99/150 [03:07<01:49,  2.14s/it]"
     ]
    },
    {
     "name": "stdout",
     "output_type": "stream",
     "text": [
      "[LightGBM] [Warning] feature_fraction is set=0.7842929162274564, colsample_bytree=1.0 will be ignored. Current value: feature_fraction=0.7842929162274564\n",
      "[LightGBM] [Warning] min_data_in_leaf is set=17, min_child_samples=20 will be ignored. Current value: min_data_in_leaf=17\n"
     ]
    },
    {
     "name": "stderr",
     "output_type": "stream",
     "text": [
      " 67%|██████▋   | 100/150 [03:10<02:00,  2.41s/it]"
     ]
    },
    {
     "name": "stdout",
     "output_type": "stream",
     "text": [
      "[LightGBM] [Warning] feature_fraction is set=0.7703006719096633, colsample_bytree=1.0 will be ignored. Current value: feature_fraction=0.7703006719096633\n",
      "[LightGBM] [Warning] min_data_in_leaf is set=11, min_child_samples=20 will be ignored. Current value: min_data_in_leaf=11\n"
     ]
    },
    {
     "name": "stderr",
     "output_type": "stream",
     "text": [
      " 67%|██████▋   | 101/150 [03:12<01:46,  2.17s/it]"
     ]
    },
    {
     "name": "stdout",
     "output_type": "stream",
     "text": [
      "[LightGBM] [Warning] feature_fraction is set=0.8175426146756775, colsample_bytree=1.0 will be ignored. Current value: feature_fraction=0.8175426146756775\n",
      "[LightGBM] [Warning] min_data_in_leaf is set=23, min_child_samples=20 will be ignored. Current value: min_data_in_leaf=23\n"
     ]
    },
    {
     "name": "stderr",
     "output_type": "stream",
     "text": [
      " 68%|██████▊   | 102/150 [03:15<01:54,  2.38s/it]"
     ]
    },
    {
     "name": "stdout",
     "output_type": "stream",
     "text": [
      "[LightGBM] [Warning] feature_fraction is set=0.8284888841851521, colsample_bytree=1.0 will be ignored. Current value: feature_fraction=0.8284888841851521\n",
      "[LightGBM] [Warning] min_data_in_leaf is set=23, min_child_samples=20 will be ignored. Current value: min_data_in_leaf=23\n"
     ]
    },
    {
     "name": "stderr",
     "output_type": "stream",
     "text": [
      " 69%|██████▊   | 103/150 [03:18<01:57,  2.50s/it]"
     ]
    },
    {
     "name": "stdout",
     "output_type": "stream",
     "text": [
      "[LightGBM] [Warning] feature_fraction is set=0.8282941411403737, colsample_bytree=1.0 will be ignored. Current value: feature_fraction=0.8282941411403737\n",
      "[LightGBM] [Warning] min_data_in_leaf is set=19, min_child_samples=20 will be ignored. Current value: min_data_in_leaf=19\n"
     ]
    },
    {
     "name": "stderr",
     "output_type": "stream",
     "text": [
      " 69%|██████▉   | 104/150 [03:20<01:55,  2.51s/it]"
     ]
    },
    {
     "name": "stdout",
     "output_type": "stream",
     "text": [
      "[LightGBM] [Warning] feature_fraction is set=0.8210861145937733, colsample_bytree=1.0 will be ignored. Current value: feature_fraction=0.8210861145937733\n",
      "[LightGBM] [Warning] min_data_in_leaf is set=3, min_child_samples=20 will be ignored. Current value: min_data_in_leaf=3\n"
     ]
    },
    {
     "name": "stderr",
     "output_type": "stream",
     "text": [
      " 70%|███████   | 105/150 [03:23<01:57,  2.60s/it]"
     ]
    },
    {
     "name": "stdout",
     "output_type": "stream",
     "text": [
      "[LightGBM] [Warning] feature_fraction is set=0.8324041841238285, colsample_bytree=1.0 will be ignored. Current value: feature_fraction=0.8324041841238285\n",
      "[LightGBM] [Warning] min_data_in_leaf is set=4, min_child_samples=20 will be ignored. Current value: min_data_in_leaf=4\n"
     ]
    },
    {
     "name": "stderr",
     "output_type": "stream",
     "text": [
      " 71%|███████   | 106/150 [03:25<01:45,  2.39s/it]"
     ]
    },
    {
     "name": "stdout",
     "output_type": "stream",
     "text": [
      "[LightGBM] [Warning] feature_fraction is set=0.8747427995216279, colsample_bytree=1.0 will be ignored. Current value: feature_fraction=0.8747427995216279\n",
      "[LightGBM] [Warning] min_data_in_leaf is set=20, min_child_samples=20 will be ignored. Current value: min_data_in_leaf=20\n"
     ]
    },
    {
     "name": "stderr",
     "output_type": "stream",
     "text": [
      " 71%|███████▏  | 107/150 [03:28<01:52,  2.62s/it]"
     ]
    },
    {
     "name": "stdout",
     "output_type": "stream",
     "text": [
      "[LightGBM] [Warning] feature_fraction is set=0.7971016677834764, colsample_bytree=1.0 will be ignored. Current value: feature_fraction=0.7971016677834764\n",
      "[LightGBM] [Warning] min_data_in_leaf is set=18, min_child_samples=20 will be ignored. Current value: min_data_in_leaf=18\n"
     ]
    },
    {
     "name": "stderr",
     "output_type": "stream",
     "text": [
      " 72%|███████▏  | 108/150 [03:29<01:22,  1.96s/it]"
     ]
    },
    {
     "name": "stdout",
     "output_type": "stream",
     "text": [
      "[LightGBM] [Warning] feature_fraction is set=0.8757844141983476, colsample_bytree=1.0 will be ignored. Current value: feature_fraction=0.8757844141983476\n",
      "[LightGBM] [Warning] min_data_in_leaf is set=12, min_child_samples=20 will be ignored. Current value: min_data_in_leaf=12\n"
     ]
    },
    {
     "name": "stderr",
     "output_type": "stream",
     "text": [
      " 73%|███████▎  | 109/150 [03:32<01:41,  2.48s/it]"
     ]
    },
    {
     "name": "stdout",
     "output_type": "stream",
     "text": [
      "[LightGBM] [Warning] feature_fraction is set=0.8811434883997242, colsample_bytree=1.0 will be ignored. Current value: feature_fraction=0.8811434883997242\n",
      "[LightGBM] [Warning] min_data_in_leaf is set=12, min_child_samples=20 will be ignored. Current value: min_data_in_leaf=12\n"
     ]
    },
    {
     "name": "stderr",
     "output_type": "stream",
     "text": [
      " 73%|███████▎  | 110/150 [03:37<02:03,  3.08s/it]"
     ]
    },
    {
     "name": "stdout",
     "output_type": "stream",
     "text": [
      "[LightGBM] [Warning] feature_fraction is set=0.9145304595670405, colsample_bytree=1.0 will be ignored. Current value: feature_fraction=0.9145304595670405\n",
      "[LightGBM] [Warning] min_data_in_leaf is set=21, min_child_samples=20 will be ignored. Current value: min_data_in_leaf=21\n"
     ]
    },
    {
     "name": "stderr",
     "output_type": "stream",
     "text": [
      " 74%|███████▍  | 111/150 [03:39<01:56,  2.98s/it]"
     ]
    },
    {
     "name": "stdout",
     "output_type": "stream",
     "text": [
      "[LightGBM] [Warning] feature_fraction is set=0.8979777127489361, colsample_bytree=1.0 will be ignored. Current value: feature_fraction=0.8979777127489361\n",
      "[LightGBM] [Warning] min_data_in_leaf is set=21, min_child_samples=20 will be ignored. Current value: min_data_in_leaf=21\n"
     ]
    },
    {
     "name": "stderr",
     "output_type": "stream",
     "text": [
      " 75%|███████▍  | 112/150 [03:42<01:49,  2.89s/it]"
     ]
    },
    {
     "name": "stdout",
     "output_type": "stream",
     "text": [
      "[LightGBM] [Warning] feature_fraction is set=0.9263479474222878, colsample_bytree=1.0 will be ignored. Current value: feature_fraction=0.9263479474222878\n",
      "[LightGBM] [Warning] min_data_in_leaf is set=24, min_child_samples=20 will be ignored. Current value: min_data_in_leaf=24\n"
     ]
    },
    {
     "name": "stderr",
     "output_type": "stream",
     "text": [
      " 75%|███████▌  | 113/150 [03:45<01:47,  2.91s/it]"
     ]
    },
    {
     "name": "stdout",
     "output_type": "stream",
     "text": [
      "[LightGBM] [Warning] feature_fraction is set=0.9198822591020195, colsample_bytree=1.0 will be ignored. Current value: feature_fraction=0.9198822591020195\n",
      "[LightGBM] [Warning] min_data_in_leaf is set=22, min_child_samples=20 will be ignored. Current value: min_data_in_leaf=22\n"
     ]
    },
    {
     "name": "stderr",
     "output_type": "stream",
     "text": [
      " 76%|███████▌  | 114/150 [03:48<01:43,  2.87s/it]"
     ]
    },
    {
     "name": "stdout",
     "output_type": "stream",
     "text": [
      "[LightGBM] [Warning] feature_fraction is set=0.9189058349684779, colsample_bytree=1.0 will be ignored. Current value: feature_fraction=0.9189058349684779\n",
      "[LightGBM] [Warning] min_data_in_leaf is set=23, min_child_samples=20 will be ignored. Current value: min_data_in_leaf=23\n"
     ]
    },
    {
     "name": "stderr",
     "output_type": "stream",
     "text": [
      " 77%|███████▋  | 115/150 [03:51<01:41,  2.90s/it]"
     ]
    },
    {
     "name": "stdout",
     "output_type": "stream",
     "text": [
      "[LightGBM] [Warning] feature_fraction is set=0.9226390192221607, colsample_bytree=1.0 will be ignored. Current value: feature_fraction=0.9226390192221607\n",
      "[LightGBM] [Warning] min_data_in_leaf is set=22, min_child_samples=20 will be ignored. Current value: min_data_in_leaf=22\n"
     ]
    },
    {
     "name": "stderr",
     "output_type": "stream",
     "text": [
      " 77%|███████▋  | 116/150 [03:54<01:42,  3.02s/it]"
     ]
    },
    {
     "name": "stdout",
     "output_type": "stream",
     "text": [
      "[LightGBM] [Warning] feature_fraction is set=0.9222314035067469, colsample_bytree=1.0 will be ignored. Current value: feature_fraction=0.9222314035067469\n",
      "[LightGBM] [Warning] min_data_in_leaf is set=2, min_child_samples=20 will be ignored. Current value: min_data_in_leaf=2\n"
     ]
    },
    {
     "name": "stderr",
     "output_type": "stream",
     "text": [
      " 78%|███████▊  | 117/150 [03:56<01:32,  2.80s/it]"
     ]
    },
    {
     "name": "stdout",
     "output_type": "stream",
     "text": [
      "[LightGBM] [Warning] feature_fraction is set=0.9794849674180097, colsample_bytree=1.0 will be ignored. Current value: feature_fraction=0.9794849674180097\n",
      "[LightGBM] [Warning] min_data_in_leaf is set=24, min_child_samples=20 will be ignored. Current value: min_data_in_leaf=24\n"
     ]
    },
    {
     "name": "stderr",
     "output_type": "stream",
     "text": [
      " 79%|███████▊  | 118/150 [03:59<01:22,  2.59s/it]"
     ]
    },
    {
     "name": "stdout",
     "output_type": "stream",
     "text": [
      "[LightGBM] [Warning] feature_fraction is set=0.9234288401966597, colsample_bytree=1.0 will be ignored. Current value: feature_fraction=0.9234288401966597\n",
      "[LightGBM] [Warning] min_data_in_leaf is set=24, min_child_samples=20 will be ignored. Current value: min_data_in_leaf=24\n"
     ]
    },
    {
     "name": "stderr",
     "output_type": "stream",
     "text": [
      " 79%|███████▉  | 119/150 [04:01<01:22,  2.66s/it]"
     ]
    },
    {
     "name": "stdout",
     "output_type": "stream",
     "text": [
      "[LightGBM] [Warning] feature_fraction is set=0.902859771660648, colsample_bytree=1.0 will be ignored. Current value: feature_fraction=0.902859771660648\n",
      "[LightGBM] [Warning] min_data_in_leaf is set=6, min_child_samples=20 will be ignored. Current value: min_data_in_leaf=6\n"
     ]
    },
    {
     "name": "stderr",
     "output_type": "stream",
     "text": [
      " 80%|████████  | 120/150 [04:02<01:01,  2.05s/it]"
     ]
    },
    {
     "name": "stdout",
     "output_type": "stream",
     "text": [
      "[LightGBM] [Warning] feature_fraction is set=0.9699200570221075, colsample_bytree=1.0 will be ignored. Current value: feature_fraction=0.9699200570221075\n",
      "[LightGBM] [Warning] min_data_in_leaf is set=27, min_child_samples=20 will be ignored. Current value: min_data_in_leaf=27\n"
     ]
    },
    {
     "name": "stderr",
     "output_type": "stream",
     "text": [
      " 81%|████████  | 121/150 [04:04<01:01,  2.12s/it]"
     ]
    },
    {
     "name": "stdout",
     "output_type": "stream",
     "text": [
      "[LightGBM] [Warning] feature_fraction is set=0.9292470550484008, colsample_bytree=1.0 will be ignored. Current value: feature_fraction=0.9292470550484008\n",
      "[LightGBM] [Warning] min_data_in_leaf is set=21, min_child_samples=20 will be ignored. Current value: min_data_in_leaf=21\n"
     ]
    },
    {
     "name": "stderr",
     "output_type": "stream",
     "text": [
      " 81%|████████▏ | 122/150 [04:07<01:06,  2.37s/it]"
     ]
    },
    {
     "name": "stdout",
     "output_type": "stream",
     "text": [
      "[LightGBM] [Warning] feature_fraction is set=0.9374831143910458, colsample_bytree=1.0 will be ignored. Current value: feature_fraction=0.9374831143910458\n",
      "[LightGBM] [Warning] min_data_in_leaf is set=20, min_child_samples=20 will be ignored. Current value: min_data_in_leaf=20\n"
     ]
    },
    {
     "name": "stderr",
     "output_type": "stream",
     "text": [
      " 82%|████████▏ | 123/150 [04:10<01:08,  2.54s/it]"
     ]
    },
    {
     "name": "stdout",
     "output_type": "stream",
     "text": [
      "[LightGBM] [Warning] feature_fraction is set=0.9260793185958792, colsample_bytree=1.0 will be ignored. Current value: feature_fraction=0.9260793185958792\n",
      "[LightGBM] [Warning] min_data_in_leaf is set=8, min_child_samples=20 will be ignored. Current value: min_data_in_leaf=8\n"
     ]
    },
    {
     "name": "stderr",
     "output_type": "stream",
     "text": [
      " 83%|████████▎ | 124/150 [04:13<01:08,  2.64s/it]"
     ]
    },
    {
     "name": "stdout",
     "output_type": "stream",
     "text": [
      "[LightGBM] [Warning] feature_fraction is set=0.8600713264539943, colsample_bytree=1.0 will be ignored. Current value: feature_fraction=0.8600713264539943\n",
      "[LightGBM] [Warning] min_data_in_leaf is set=20, min_child_samples=20 will be ignored. Current value: min_data_in_leaf=20\n"
     ]
    },
    {
     "name": "stderr",
     "output_type": "stream",
     "text": [
      " 83%|████████▎ | 125/150 [04:15<00:58,  2.34s/it]"
     ]
    },
    {
     "name": "stdout",
     "output_type": "stream",
     "text": [
      "[LightGBM] [Warning] feature_fraction is set=0.9448625781852197, colsample_bytree=1.0 will be ignored. Current value: feature_fraction=0.9448625781852197\n",
      "[LightGBM] [Warning] min_data_in_leaf is set=13, min_child_samples=20 will be ignored. Current value: min_data_in_leaf=13\n"
     ]
    },
    {
     "name": "stderr",
     "output_type": "stream",
     "text": [
      " 84%|████████▍ | 126/150 [04:18<01:03,  2.66s/it]"
     ]
    },
    {
     "name": "stdout",
     "output_type": "stream",
     "text": [
      "[LightGBM] [Warning] feature_fraction is set=0.9913952759758605, colsample_bytree=1.0 will be ignored. Current value: feature_fraction=0.9913952759758605\n",
      "[LightGBM] [Warning] min_data_in_leaf is set=25, min_child_samples=20 will be ignored. Current value: min_data_in_leaf=25\n"
     ]
    },
    {
     "name": "stderr",
     "output_type": "stream",
     "text": [
      " 85%|████████▍ | 127/150 [04:21<01:01,  2.66s/it]"
     ]
    },
    {
     "name": "stdout",
     "output_type": "stream",
     "text": [
      "[LightGBM] [Warning] feature_fraction is set=0.9871246285667685, colsample_bytree=1.0 will be ignored. Current value: feature_fraction=0.9871246285667685\n",
      "[LightGBM] [Warning] min_data_in_leaf is set=26, min_child_samples=20 will be ignored. Current value: min_data_in_leaf=26\n"
     ]
    },
    {
     "name": "stderr",
     "output_type": "stream",
     "text": [
      " 85%|████████▌ | 128/150 [04:23<00:53,  2.44s/it]"
     ]
    },
    {
     "name": "stdout",
     "output_type": "stream",
     "text": [
      "[LightGBM] [Warning] feature_fraction is set=0.870761147004014, colsample_bytree=1.0 will be ignored. Current value: feature_fraction=0.870761147004014\n",
      "[LightGBM] [Warning] min_data_in_leaf is set=42, min_child_samples=20 will be ignored. Current value: min_data_in_leaf=42\n"
     ]
    },
    {
     "name": "stderr",
     "output_type": "stream",
     "text": [
      " 86%|████████▌ | 129/150 [04:26<00:55,  2.63s/it]"
     ]
    },
    {
     "name": "stdout",
     "output_type": "stream",
     "text": [
      "[LightGBM] [Warning] feature_fraction is set=0.9380324497688702, colsample_bytree=1.0 will be ignored. Current value: feature_fraction=0.9380324497688702\n",
      "[LightGBM] [Warning] min_data_in_leaf is set=41, min_child_samples=20 will be ignored. Current value: min_data_in_leaf=41\n"
     ]
    },
    {
     "name": "stderr",
     "output_type": "stream",
     "text": [
      " 87%|████████▋ | 130/150 [04:26<00:39,  1.98s/it]"
     ]
    },
    {
     "name": "stdout",
     "output_type": "stream",
     "text": [
      "[LightGBM] [Warning] feature_fraction is set=0.9986650510960358, colsample_bytree=1.0 will be ignored. Current value: feature_fraction=0.9986650510960358\n",
      "[LightGBM] [Warning] min_data_in_leaf is set=2, min_child_samples=20 will be ignored. Current value: min_data_in_leaf=2\n"
     ]
    },
    {
     "name": "stderr",
     "output_type": "stream",
     "text": [
      " 87%|████████▋ | 131/150 [04:30<00:46,  2.46s/it]"
     ]
    },
    {
     "name": "stdout",
     "output_type": "stream",
     "text": [
      "[LightGBM] [Warning] feature_fraction is set=0.8701333898250531, colsample_bytree=1.0 will be ignored. Current value: feature_fraction=0.8701333898250531\n",
      "[LightGBM] [Warning] min_data_in_leaf is set=15, min_child_samples=20 will be ignored. Current value: min_data_in_leaf=15\n"
     ]
    },
    {
     "name": "stderr",
     "output_type": "stream",
     "text": [
      " 88%|████████▊ | 132/150 [04:33<00:46,  2.59s/it]"
     ]
    },
    {
     "name": "stdout",
     "output_type": "stream",
     "text": [
      "[LightGBM] [Warning] feature_fraction is set=0.8708581855404541, colsample_bytree=1.0 will be ignored. Current value: feature_fraction=0.8708581855404541\n",
      "[LightGBM] [Warning] min_data_in_leaf is set=13, min_child_samples=20 will be ignored. Current value: min_data_in_leaf=13\n"
     ]
    },
    {
     "name": "stderr",
     "output_type": "stream",
     "text": [
      " 89%|████████▊ | 133/150 [04:36<00:45,  2.70s/it]"
     ]
    },
    {
     "name": "stdout",
     "output_type": "stream",
     "text": [
      "[LightGBM] [Warning] feature_fraction is set=0.9663789067432538, colsample_bytree=1.0 will be ignored. Current value: feature_fraction=0.9663789067432538\n",
      "[LightGBM] [Warning] min_data_in_leaf is set=14, min_child_samples=20 will be ignored. Current value: min_data_in_leaf=14\n"
     ]
    },
    {
     "name": "stderr",
     "output_type": "stream",
     "text": [
      " 89%|████████▉ | 134/150 [04:38<00:39,  2.48s/it]"
     ]
    },
    {
     "name": "stdout",
     "output_type": "stream",
     "text": [
      "[LightGBM] [Warning] feature_fraction is set=0.9059255508189773, colsample_bytree=1.0 will be ignored. Current value: feature_fraction=0.9059255508189773\n",
      "[LightGBM] [Warning] min_data_in_leaf is set=8, min_child_samples=20 will be ignored. Current value: min_data_in_leaf=8\n"
     ]
    },
    {
     "name": "stderr",
     "output_type": "stream",
     "text": [
      " 90%|█████████ | 135/150 [04:41<00:40,  2.72s/it]"
     ]
    },
    {
     "name": "stdout",
     "output_type": "stream",
     "text": [
      "[LightGBM] [Warning] feature_fraction is set=0.8994390523805564, colsample_bytree=1.0 will be ignored. Current value: feature_fraction=0.8994390523805564\n",
      "[LightGBM] [Warning] min_data_in_leaf is set=9, min_child_samples=20 will be ignored. Current value: min_data_in_leaf=9\n"
     ]
    },
    {
     "name": "stderr",
     "output_type": "stream",
     "text": [
      " 91%|█████████ | 136/150 [04:45<00:44,  3.18s/it]"
     ]
    },
    {
     "name": "stdout",
     "output_type": "stream",
     "text": [
      "[LightGBM] [Warning] feature_fraction is set=0.9125433316958298, colsample_bytree=1.0 will be ignored. Current value: feature_fraction=0.9125433316958298\n",
      "[LightGBM] [Warning] min_data_in_leaf is set=8, min_child_samples=20 will be ignored. Current value: min_data_in_leaf=8\n"
     ]
    },
    {
     "name": "stderr",
     "output_type": "stream",
     "text": [
      " 91%|█████████▏| 137/150 [04:47<00:37,  2.92s/it]"
     ]
    },
    {
     "name": "stdout",
     "output_type": "stream",
     "text": [
      "[LightGBM] [Warning] feature_fraction is set=0.8790470568657813, colsample_bytree=1.0 will be ignored. Current value: feature_fraction=0.8790470568657813\n",
      "[LightGBM] [Warning] min_data_in_leaf is set=28, min_child_samples=20 will be ignored. Current value: min_data_in_leaf=28\n"
     ]
    },
    {
     "name": "stderr",
     "output_type": "stream",
     "text": [
      " 92%|█████████▏| 138/150 [04:52<00:40,  3.34s/it]"
     ]
    },
    {
     "name": "stdout",
     "output_type": "stream",
     "text": [
      "[LightGBM] [Warning] feature_fraction is set=0.860415835954988, colsample_bytree=1.0 will be ignored. Current value: feature_fraction=0.860415835954988\n",
      "[LightGBM] [Warning] min_data_in_leaf is set=16, min_child_samples=20 will be ignored. Current value: min_data_in_leaf=16\n"
     ]
    },
    {
     "name": "stderr",
     "output_type": "stream",
     "text": [
      " 93%|█████████▎| 139/150 [04:54<00:33,  3.05s/it]"
     ]
    },
    {
     "name": "stdout",
     "output_type": "stream",
     "text": [
      "[LightGBM] [Warning] feature_fraction is set=0.962538026981155, colsample_bytree=1.0 will be ignored. Current value: feature_fraction=0.962538026981155\n",
      "[LightGBM] [Warning] min_data_in_leaf is set=30, min_child_samples=20 will be ignored. Current value: min_data_in_leaf=30\n"
     ]
    },
    {
     "name": "stderr",
     "output_type": "stream",
     "text": [
      " 93%|█████████▎| 140/150 [05:00<00:40,  4.01s/it]"
     ]
    },
    {
     "name": "stdout",
     "output_type": "stream",
     "text": [
      "[LightGBM] [Warning] feature_fraction is set=0.9164762546989467, colsample_bytree=1.0 will be ignored. Current value: feature_fraction=0.9164762546989467\n",
      "[LightGBM] [Warning] min_data_in_leaf is set=7, min_child_samples=20 will be ignored. Current value: min_data_in_leaf=7\n"
     ]
    },
    {
     "name": "stderr",
     "output_type": "stream",
     "text": [
      " 94%|█████████▍| 141/150 [05:03<00:32,  3.67s/it]"
     ]
    },
    {
     "name": "stdout",
     "output_type": "stream",
     "text": [
      "[LightGBM] [Warning] feature_fraction is set=0.9137726463998683, colsample_bytree=1.0 will be ignored. Current value: feature_fraction=0.9137726463998683\n",
      "[LightGBM] [Warning] min_data_in_leaf is set=13, min_child_samples=20 will be ignored. Current value: min_data_in_leaf=13\n"
     ]
    },
    {
     "name": "stderr",
     "output_type": "stream",
     "text": [
      " 95%|█████████▍| 142/150 [05:06<00:26,  3.30s/it]"
     ]
    },
    {
     "name": "stdout",
     "output_type": "stream",
     "text": [
      "[LightGBM] [Warning] feature_fraction is set=0.8873371531914449, colsample_bytree=1.0 will be ignored. Current value: feature_fraction=0.8873371531914449\n",
      "[LightGBM] [Warning] min_data_in_leaf is set=3, min_child_samples=20 will be ignored. Current value: min_data_in_leaf=3\n"
     ]
    },
    {
     "name": "stderr",
     "output_type": "stream",
     "text": [
      " 95%|█████████▌| 143/150 [05:09<00:23,  3.37s/it]"
     ]
    },
    {
     "name": "stdout",
     "output_type": "stream",
     "text": [
      "[LightGBM] [Warning] feature_fraction is set=0.8495948260477355, colsample_bytree=1.0 will be ignored. Current value: feature_fraction=0.8495948260477355\n",
      "[LightGBM] [Warning] min_data_in_leaf is set=11, min_child_samples=20 will be ignored. Current value: min_data_in_leaf=11\n"
     ]
    },
    {
     "name": "stderr",
     "output_type": "stream",
     "text": [
      " 96%|█████████▌| 144/150 [05:11<00:16,  2.82s/it]"
     ]
    },
    {
     "name": "stdout",
     "output_type": "stream",
     "text": [
      "[LightGBM] [Warning] feature_fraction is set=0.8111328724255604, colsample_bytree=1.0 will be ignored. Current value: feature_fraction=0.8111328724255604\n",
      "[LightGBM] [Warning] min_data_in_leaf is set=14, min_child_samples=20 will be ignored. Current value: min_data_in_leaf=14\n"
     ]
    }
   ],
   "source": [
    "study.optimize(objective, n_trials=150, show_progress_bar=True)\n",
    "best = study.best_params\n",
    "best_LGBM = best\n",
    "best['score'] = study.best_value\n",
    "with open('Models/LGBM_best.pickle', 'wb') as handle:\n",
    "    pickle.dump(best, handle, protocol=pickle.HIGHEST_PROTOCOL) \n",
    "study.best_value"
   ]
  },
  {
   "cell_type": "code",
   "execution_count": 30,
   "metadata": {},
   "outputs": [
    {
     "data": {
      "text/plain": [
       "FrozenTrial(number=112, values=[0.5365081838384128], datetime_start=datetime.datetime(2021, 12, 5, 0, 35, 4, 81092), datetime_complete=datetime.datetime(2021, 12, 5, 0, 35, 7, 33789), params={'boosting_type': 'dart', 'n_estimators': 432, 'max_depth': 3, 'learning_rate': 0.26998733934256397, 'min_data_in_leaf': 24, 'feature_fraction': 0.9263479474222878}, distributions={'boosting_type': CategoricalDistribution(choices=('gbdt', 'dart', 'goss')), 'n_estimators': IntUniformDistribution(high=500, low=10, step=1), 'max_depth': IntUniformDistribution(high=25, low=2, step=1), 'learning_rate': UniformDistribution(high=1.0, low=1e-05), 'min_data_in_leaf': IntUniformDistribution(high=300, low=2, step=1), 'feature_fraction': UniformDistribution(high=1.0, low=1e-05)}, user_attrs={}, system_attrs={}, intermediate_values={}, trial_id=112, state=TrialState.COMPLETE, value=None)"
      ]
     },
     "execution_count": 30,
     "metadata": {},
     "output_type": "execute_result"
    }
   ],
   "source": [
    "study.best_trial"
   ]
  },
  {
   "cell_type": "code",
   "execution_count": 31,
   "metadata": {},
   "outputs": [
    {
     "data": {
      "text/plain": [
       "<Figure size 720x360 with 0 Axes>"
      ]
     },
     "metadata": {},
     "output_type": "display_data"
    },
    {
     "data": {
      "image/png": "[encoded data removed]",
      "text/plain": [
       "<Figure size 432x288 with 1 Axes>"
      ]
     },
     "metadata": {
      "needs_background": "light"
     },
     "output_type": "display_data"
    }
   ],
   "source": [
    "plt.figure(figsize=(10, 5))\n",
    "plot_param_importances(study)\n",
    "plt.show()"
   ]
  },
  {
   "cell_type": "markdown",
   "metadata": {},
   "source": [
    "## XGBoost"
   ]
  },
  {
   "cell_type": "code",
   "execution_count": 32,
   "metadata": {},
   "outputs": [],
   "source": [
    "def objective(trial: optuna.Trial):\n",
    "\n",
    "    params = {\n",
    "        'eta': trial.suggest_uniform('eta', 1e-4, 1.),\n",
    "        'max_depth': trial.suggest_int('max_depth', 1, 100),\n",
    "        'subsample': trial.suggest_uniform('subsample', 0, 1.),\n",
    "        'colsample_bytree': trial.suggest_uniform('colsample_bytree', 0, 1.),\n",
    "        'objective': 'binary:logistic',\n",
    "        'eval_metric': 'logloss',\n",
    "        'seed': MAIN_SEED\n",
    "    }\n",
    "\n",
    "    model = XGBClassifier(**params)\n",
    "    \n",
    "    model.fit(X_train, y_train)\n",
    "    result = model.predict_proba(X_val)\n",
    "    score = log_loss(y_val, result)\n",
    "    return score"
   ]
  },
  {
   "cell_type": "code",
   "execution_count": 33,
   "metadata": {},
   "outputs": [],
   "source": [
    "sampler = TPESampler(seed=MAIN_SEED)\n",
    "study = optuna.create_study(direction='minimize', sampler=sampler)"
   ]
  },
  {
   "cell_type": "code",
   "execution_count": 34,
   "metadata": {},
   "outputs": [
    {
     "name": "stderr",
     "output_type": "stream",
     "text": [
      "100%|██████████| 150/150 [04:03<00:00,  1.63s/it]\n"
     ]
    },
    {
     "data": {
      "text/plain": [
       "{'eta': 0.44435710910403586,\n",
       " 'max_depth': 3,\n",
       " 'subsample': 0.9559540431682495,\n",
       " 'colsample_bytree': 0.3553737445494191,\n",
       " 'score': 0.5384738084234829}"
      ]
     },
     "execution_count": 34,
     "metadata": {},
     "output_type": "execute_result"
    }
   ],
   "source": [
    "study.optimize(objective, n_trials=150, show_progress_bar=True)\n",
    "best = study.best_params\n",
    "best_XGB = best\n",
    "best['score'] = study.best_value\n",
    "with open('Models/XGB_best.pickle', 'wb') as handle:\n",
    "    pickle.dump(best, handle, protocol=pickle.HIGHEST_PROTOCOL) \n",
    "best"
   ]
  },
  {
   "cell_type": "code",
   "execution_count": 35,
   "metadata": {},
   "outputs": [
    {
     "data": {
      "text/plain": [
       "{'eta': 0.44435710910403586,\n",
       " 'max_depth': 3,\n",
       " 'subsample': 0.9559540431682495,\n",
       " 'colsample_bytree': 0.3553737445494191,\n",
       " 'score': 0.5384738084234829}"
      ]
     },
     "execution_count": 35,
     "metadata": {},
     "output_type": "execute_result"
    }
   ],
   "source": [
    "best"
   ]
  },
  {
   "cell_type": "code",
   "execution_count": 36,
   "metadata": {},
   "outputs": [
    {
     "data": {
      "text/plain": [
       "<Figure size 720x360 with 0 Axes>"
      ]
     },
     "metadata": {},
     "output_type": "display_data"
    },
    {
     "data": {
      "image/png": "[encoded data removed]",
      "text/plain": [
       "<Figure size 432x288 with 1 Axes>"
      ]
     },
     "metadata": {},
     "output_type": "display_data"
    }
   ],
   "source": [
    "plt.figure(figsize=(10, 5))\n",
    "plot_param_importances(study)\n",
    "plt.show()"
   ]
  },
  {
   "cell_type": "markdown",
   "metadata": {},
   "source": [
    "## CatBoost"
   ]
  },
  {
   "cell_type": "code",
   "execution_count": 37,
   "metadata": {},
   "outputs": [],
   "source": [
    "def objective(trial: optuna.Trial):\n",
    "\n",
    "    params = {\n",
    "        'iterations': trial.suggest_int('iterations', 20, 500),\n",
    "        'depth': trial.suggest_int('depth', 3, 7),\n",
    "        'silent': True,\n",
    "        'random_seed': MAIN_SEED,\n",
    "        'loss_function': 'Logloss',\n",
    "        'task_type': 'GPU'\n",
    "    }\n",
    "\n",
    "    model = CatBoostClassifier(**params)\n",
    "    \n",
    "    model.fit(X_train, y_train)\n",
    "    result = model.predict_proba(X_val)[:, 1]\n",
    "    score = log_loss(y_val, result)\n",
    "    return score"
   ]
  },
  {
   "cell_type": "code",
   "execution_count": 38,
   "metadata": {},
   "outputs": [],
   "source": [
    "sampler = TPESampler(seed=MAIN_SEED)\n",
    "study = optuna.create_study(direction='minimize', sampler=sampler)"
   ]
  },
  {
   "cell_type": "code",
   "execution_count": 39,
   "metadata": {},
   "outputs": [
    {
     "name": "stderr",
     "output_type": "stream",
     "text": [
      "100%|██████████| 150/150 [11:35<00:00,  4.64s/it]\n"
     ]
    },
    {
     "data": {
      "text/plain": [
       "{'iterations': 449, 'depth': 4, 'score': 0.535972767360397}"
      ]
     },
     "execution_count": 39,
     "metadata": {},
     "output_type": "execute_result"
    }
   ],
   "source": [
    "study.optimize(objective, n_trials=150, show_progress_bar=True)\n",
    "best = study.best_params\n",
    "best_Cat = best\n",
    "best['score'] = study.best_value\n",
    "with open('Models/Catboost_best.pickle', 'wb') as handle:\n",
    "    pickle.dump(best, handle, protocol=pickle.HIGHEST_PROTOCOL) \n",
    "best"
   ]
  },
  {
   "cell_type": "code",
   "execution_count": 40,
   "metadata": {},
   "outputs": [
    {
     "data": {
      "text/plain": [
       "<Figure size 720x360 with 0 Axes>"
      ]
     },
     "metadata": {},
     "output_type": "display_data"
    },
    {
     "data": {
      "image/png": "[encoded data removed]",
      "text/plain": [
       "<Figure size 432x288 with 1 Axes>"
      ]
     },
     "metadata": {},
     "output_type": "display_data"
    }
   ],
   "source": [
    "plt.figure(figsize=(10, 5))\n",
    "plot_param_importances(study)\n",
    "plt.show()"
   ]
  },
  {
   "cell_type": "code",
   "execution_count": 58,
   "metadata": {},
   "outputs": [],
   "source": [
    "params_LGBM = {\n",
    "    'objective': 'binary',\n",
    "    'random_state': MAIN_SEED,\n",
    "    'n_jobs': -1,\n",
    "}\n",
    "\n",
    "for key in best_LGBM:\n",
    "    params_LGBM[key] = best_LGBM[key]\n",
    "\n",
    "model_LGBM = LGBMClassifier(**params_LGBM)\n",
    "\n",
    "params_XGB = {\n",
    "    'objective': 'binary:logistic',\n",
    "    'eval_metric': 'logloss',\n",
    "    'seed': MAIN_SEED\n",
    "}\n",
    "\n",
    "for key in best_XGB:\n",
    "    params_XGB[key] = best_XGB[key]\n",
    "\n",
    "model_XGB = XGBClassifier(**params_XGB)\n",
    "\n",
    "params_CAT = {\n",
    "    'random_seed': MAIN_SEED,\n",
    "    'loss_function': 'Logloss',\n",
    "    'task_type': 'GPU'\n",
    "}\n",
    "\n",
    "for key in best_Cat:\n",
    "    params_CAT[key] = best_Cat[key]\n",
    "\n",
    "model_Cat = CatBoostClassifier(**params_CAT)"
   ]
  },
  {
   "cell_type": "code",
   "execution_count": 74,
   "metadata": {},
   "outputs": [
    {
     "data": {
      "text/plain": [
       "{'iterations': 449, 'depth': 4}"
      ]
     },
     "execution_count": 74,
     "metadata": {},
     "output_type": "execute_result"
    }
   ],
   "source": [
    "best_Cat"
   ]
  },
  {
   "cell_type": "code",
   "execution_count": 59,
   "metadata": {},
   "outputs": [
    {
     "name": "stdout",
     "output_type": "stream",
     "text": [
      "[00:59:21] WARNING: D:\\bld\\xgboost-split_1637426510059\\work\\src\\learner.cc:576: \n",
      "Parameters: { \"score\" } might not be used.\n",
      "\n",
      "  This could be a false alarm, with some parameters getting used by language bindings but\n",
      "  then being mistakenly passed down to XGBoost core, or some parameter actually being used\n",
      "  but getting flagged wrongly here. Please open an issue if you find any such cases.\n",
      "\n",
      "\n",
      "Learning rate set to 0.054687\n",
      "0:\tlearn: 0.6777693\ttotal: 6.41ms\tremaining: 2.87s\n",
      "1:\tlearn: 0.6641492\ttotal: 12.9ms\tremaining: 2.88s\n",
      "2:\tlearn: 0.6521222\ttotal: 19.3ms\tremaining: 2.87s\n",
      "3:\tlearn: 0.6414095\ttotal: 25.4ms\tremaining: 2.83s\n",
      "4:\tlearn: 0.6320007\ttotal: 31.3ms\tremaining: 2.78s\n",
      "5:\tlearn: 0.6237813\ttotal: 37.6ms\tremaining: 2.78s\n",
      "6:\tlearn: 0.6164951\ttotal: 44.2ms\tremaining: 2.79s\n",
      "7:\tlearn: 0.6099392\ttotal: 50.6ms\tremaining: 2.79s\n",
      "8:\tlearn: 0.6039879\ttotal: 56.3ms\tremaining: 2.75s\n",
      "9:\tlearn: 0.5986674\ttotal: 62ms\tremaining: 2.72s\n",
      "10:\tlearn: 0.5940910\ttotal: 67.6ms\tremaining: 2.69s\n",
      "11:\tlearn: 0.5900868\ttotal: 73.6ms\tremaining: 2.68s\n",
      "12:\tlearn: 0.5862545\ttotal: 79.7ms\tremaining: 2.67s\n",
      "13:\tlearn: 0.5830897\ttotal: 85.6ms\tremaining: 2.66s\n",
      "14:\tlearn: 0.5802065\ttotal: 91.3ms\tremaining: 2.64s\n",
      "15:\tlearn: 0.5772097\ttotal: 97ms\tremaining: 2.62s\n",
      "16:\tlearn: 0.5747796\ttotal: 102ms\tremaining: 2.6s\n",
      "17:\tlearn: 0.5722584\ttotal: 108ms\tremaining: 2.59s\n",
      "18:\tlearn: 0.5703266\ttotal: 114ms\tremaining: 2.59s\n",
      "19:\tlearn: 0.5683328\ttotal: 120ms\tremaining: 2.57s\n",
      "20:\tlearn: 0.5664234\ttotal: 125ms\tremaining: 2.55s\n",
      "21:\tlearn: 0.5649019\ttotal: 131ms\tremaining: 2.55s\n",
      "22:\tlearn: 0.5633735\ttotal: 137ms\tremaining: 2.55s\n",
      "23:\tlearn: 0.5618149\ttotal: 143ms\tremaining: 2.54s\n",
      "24:\tlearn: 0.5605736\ttotal: 149ms\tremaining: 2.53s\n",
      "25:\tlearn: 0.5595765\ttotal: 155ms\tremaining: 2.52s\n",
      "26:\tlearn: 0.5585498\ttotal: 160ms\tremaining: 2.5s\n",
      "27:\tlearn: 0.5576114\ttotal: 166ms\tremaining: 2.5s\n",
      "28:\tlearn: 0.5565965\ttotal: 173ms\tremaining: 2.5s\n",
      "29:\tlearn: 0.5557316\ttotal: 179ms\tremaining: 2.5s\n",
      "30:\tlearn: 0.5549772\ttotal: 184ms\tremaining: 2.49s\n",
      "31:\tlearn: 0.5542958\ttotal: 190ms\tremaining: 2.47s\n",
      "32:\tlearn: 0.5536267\ttotal: 196ms\tremaining: 2.47s\n",
      "33:\tlearn: 0.5527992\ttotal: 202ms\tremaining: 2.47s\n",
      "34:\tlearn: 0.5522278\ttotal: 208ms\tremaining: 2.46s\n",
      "35:\tlearn: 0.5517281\ttotal: 214ms\tremaining: 2.45s\n",
      "36:\tlearn: 0.5511953\ttotal: 219ms\tremaining: 2.44s\n",
      "37:\tlearn: 0.5506140\ttotal: 225ms\tremaining: 2.43s\n",
      "38:\tlearn: 0.5501722\ttotal: 231ms\tremaining: 2.42s\n",
      "39:\tlearn: 0.5497804\ttotal: 236ms\tremaining: 2.42s\n",
      "40:\tlearn: 0.5493626\ttotal: 243ms\tremaining: 2.42s\n",
      "41:\tlearn: 0.5489909\ttotal: 249ms\tremaining: 2.41s\n",
      "42:\tlearn: 0.5485986\ttotal: 255ms\tremaining: 2.41s\n",
      "43:\tlearn: 0.5482499\ttotal: 261ms\tremaining: 2.4s\n",
      "44:\tlearn: 0.5479496\ttotal: 266ms\tremaining: 2.39s\n",
      "45:\tlearn: 0.5476478\ttotal: 272ms\tremaining: 2.38s\n",
      "46:\tlearn: 0.5473829\ttotal: 278ms\tremaining: 2.38s\n",
      "47:\tlearn: 0.5471012\ttotal: 284ms\tremaining: 2.37s\n",
      "48:\tlearn: 0.5467512\ttotal: 289ms\tremaining: 2.36s\n",
      "49:\tlearn: 0.5465259\ttotal: 295ms\tremaining: 2.35s\n",
      "50:\tlearn: 0.5461754\ttotal: 301ms\tremaining: 2.35s\n",
      "51:\tlearn: 0.5459049\ttotal: 306ms\tremaining: 2.34s\n",
      "52:\tlearn: 0.5456238\ttotal: 313ms\tremaining: 2.34s\n",
      "53:\tlearn: 0.5454215\ttotal: 319ms\tremaining: 2.33s\n",
      "54:\tlearn: 0.5452400\ttotal: 325ms\tremaining: 2.33s\n",
      "55:\tlearn: 0.5450400\ttotal: 331ms\tremaining: 2.32s\n",
      "56:\tlearn: 0.5448828\ttotal: 336ms\tremaining: 2.31s\n",
      "57:\tlearn: 0.5447476\ttotal: 342ms\tremaining: 2.31s\n",
      "58:\tlearn: 0.5445573\ttotal: 348ms\tremaining: 2.3s\n",
      "59:\tlearn: 0.5444118\ttotal: 355ms\tremaining: 2.3s\n",
      "60:\tlearn: 0.5442696\ttotal: 361ms\tremaining: 2.3s\n",
      "61:\tlearn: 0.5440362\ttotal: 367ms\tremaining: 2.29s\n",
      "62:\tlearn: 0.5438855\ttotal: 375ms\tremaining: 2.3s\n",
      "63:\tlearn: 0.5437703\ttotal: 381ms\tremaining: 2.29s\n",
      "64:\tlearn: 0.5436493\ttotal: 387ms\tremaining: 2.29s\n",
      "65:\tlearn: 0.5435318\ttotal: 393ms\tremaining: 2.28s\n",
      "66:\tlearn: 0.5433360\ttotal: 399ms\tremaining: 2.27s\n",
      "67:\tlearn: 0.5432326\ttotal: 406ms\tremaining: 2.28s\n",
      "68:\tlearn: 0.5431205\ttotal: 413ms\tremaining: 2.28s\n",
      "69:\tlearn: 0.5429118\ttotal: 421ms\tremaining: 2.28s\n",
      "70:\tlearn: 0.5427383\ttotal: 434ms\tremaining: 2.31s\n",
      "71:\tlearn: 0.5426385\ttotal: 442ms\tremaining: 2.31s\n",
      "72:\tlearn: 0.5425558\ttotal: 448ms\tremaining: 2.31s\n",
      "73:\tlearn: 0.5424681\ttotal: 456ms\tremaining: 2.31s\n",
      "74:\tlearn: 0.5423811\ttotal: 463ms\tremaining: 2.31s\n",
      "75:\tlearn: 0.5422950\ttotal: 470ms\tremaining: 2.31s\n",
      "76:\tlearn: 0.5422087\ttotal: 477ms\tremaining: 2.3s\n",
      "77:\tlearn: 0.5421185\ttotal: 483ms\tremaining: 2.29s\n",
      "78:\tlearn: 0.5419396\ttotal: 491ms\tremaining: 2.3s\n",
      "79:\tlearn: 0.5418612\ttotal: 498ms\tremaining: 2.3s\n",
      "80:\tlearn: 0.5416429\ttotal: 505ms\tremaining: 2.29s\n",
      "81:\tlearn: 0.5415603\ttotal: 512ms\tremaining: 2.29s\n",
      "82:\tlearn: 0.5415014\ttotal: 518ms\tremaining: 2.29s\n",
      "83:\tlearn: 0.5414372\ttotal: 525ms\tremaining: 2.28s\n",
      "84:\tlearn: 0.5413662\ttotal: 531ms\tremaining: 2.27s\n",
      "85:\tlearn: 0.5412623\ttotal: 537ms\tremaining: 2.27s\n",
      "86:\tlearn: 0.5411924\ttotal: 544ms\tremaining: 2.26s\n",
      "87:\tlearn: 0.5410167\ttotal: 551ms\tremaining: 2.26s\n",
      "88:\tlearn: 0.5409525\ttotal: 558ms\tremaining: 2.25s\n",
      "89:\tlearn: 0.5408600\ttotal: 565ms\tremaining: 2.25s\n",
      "90:\tlearn: 0.5407964\ttotal: 571ms\tremaining: 2.24s\n",
      "91:\tlearn: 0.5407436\ttotal: 577ms\tremaining: 2.24s\n",
      "92:\tlearn: 0.5406958\ttotal: 584ms\tremaining: 2.23s\n",
      "93:\tlearn: 0.5406519\ttotal: 591ms\tremaining: 2.23s\n",
      "94:\tlearn: 0.5406105\ttotal: 597ms\tremaining: 2.23s\n",
      "95:\tlearn: 0.5405616\ttotal: 604ms\tremaining: 2.22s\n",
      "96:\tlearn: 0.5404663\ttotal: 610ms\tremaining: 2.21s\n",
      "97:\tlearn: 0.5403866\ttotal: 617ms\tremaining: 2.21s\n",
      "98:\tlearn: 0.5403393\ttotal: 624ms\tremaining: 2.21s\n",
      "99:\tlearn: 0.5402753\ttotal: 630ms\tremaining: 2.2s\n",
      "100:\tlearn: 0.5402107\ttotal: 637ms\tremaining: 2.19s\n",
      "101:\tlearn: 0.5401445\ttotal: 643ms\tremaining: 2.19s\n",
      "102:\tlearn: 0.5400689\ttotal: 652ms\tremaining: 2.19s\n",
      "103:\tlearn: 0.5400281\ttotal: 658ms\tremaining: 2.18s\n",
      "104:\tlearn: 0.5399843\ttotal: 665ms\tremaining: 2.18s\n",
      "105:\tlearn: 0.5399107\ttotal: 671ms\tremaining: 2.17s\n",
      "106:\tlearn: 0.5398542\ttotal: 678ms\tremaining: 2.17s\n",
      "107:\tlearn: 0.5398055\ttotal: 685ms\tremaining: 2.16s\n",
      "108:\tlearn: 0.5397610\ttotal: 692ms\tremaining: 2.16s\n",
      "109:\tlearn: 0.5397316\ttotal: 699ms\tremaining: 2.15s\n",
      "110:\tlearn: 0.5395706\ttotal: 705ms\tremaining: 2.15s\n",
      "111:\tlearn: 0.5395097\ttotal: 712ms\tremaining: 2.14s\n",
      "112:\tlearn: 0.5394506\ttotal: 719ms\tremaining: 2.14s\n",
      "113:\tlearn: 0.5394001\ttotal: 725ms\tremaining: 2.13s\n",
      "114:\tlearn: 0.5393493\ttotal: 731ms\tremaining: 2.12s\n",
      "115:\tlearn: 0.5393155\ttotal: 739ms\tremaining: 2.12s\n",
      "116:\tlearn: 0.5392831\ttotal: 746ms\tremaining: 2.12s\n",
      "117:\tlearn: 0.5392254\ttotal: 753ms\tremaining: 2.11s\n",
      "118:\tlearn: 0.5391983\ttotal: 759ms\tremaining: 2.11s\n",
      "119:\tlearn: 0.5391566\ttotal: 766ms\tremaining: 2.1s\n",
      "120:\tlearn: 0.5391109\ttotal: 772ms\tremaining: 2.09s\n",
      "121:\tlearn: 0.5390720\ttotal: 779ms\tremaining: 2.09s\n",
      "122:\tlearn: 0.5390308\ttotal: 786ms\tremaining: 2.08s\n",
      "123:\tlearn: 0.5389849\ttotal: 792ms\tremaining: 2.08s\n",
      "124:\tlearn: 0.5389451\ttotal: 798ms\tremaining: 2.07s\n",
      "125:\tlearn: 0.5389197\ttotal: 804ms\tremaining: 2.06s\n",
      "126:\tlearn: 0.5388317\ttotal: 812ms\tremaining: 2.06s\n",
      "127:\tlearn: 0.5387838\ttotal: 818ms\tremaining: 2.05s\n",
      "128:\tlearn: 0.5387388\ttotal: 824ms\tremaining: 2.04s\n",
      "129:\tlearn: 0.5387130\ttotal: 831ms\tremaining: 2.04s\n",
      "130:\tlearn: 0.5386586\ttotal: 837ms\tremaining: 2.03s\n",
      "131:\tlearn: 0.5386290\ttotal: 844ms\tremaining: 2.03s\n",
      "132:\tlearn: 0.5385948\ttotal: 850ms\tremaining: 2.02s\n",
      "133:\tlearn: 0.5385642\ttotal: 856ms\tremaining: 2.01s\n",
      "134:\tlearn: 0.5385287\ttotal: 862ms\tremaining: 2s\n",
      "135:\tlearn: 0.5385018\ttotal: 868ms\tremaining: 2s\n",
      "136:\tlearn: 0.5384565\ttotal: 875ms\tremaining: 1.99s\n",
      "137:\tlearn: 0.5384090\ttotal: 881ms\tremaining: 1.99s\n",
      "138:\tlearn: 0.5383624\ttotal: 888ms\tremaining: 1.98s\n",
      "139:\tlearn: 0.5383410\ttotal: 895ms\tremaining: 1.97s\n",
      "140:\tlearn: 0.5382900\ttotal: 901ms\tremaining: 1.97s\n",
      "141:\tlearn: 0.5382297\ttotal: 907ms\tremaining: 1.96s\n",
      "142:\tlearn: 0.5381967\ttotal: 914ms\tremaining: 1.96s\n",
      "143:\tlearn: 0.5381568\ttotal: 920ms\tremaining: 1.95s\n",
      "144:\tlearn: 0.5381174\ttotal: 927ms\tremaining: 1.94s\n",
      "145:\tlearn: 0.5380444\ttotal: 934ms\tremaining: 1.94s\n",
      "146:\tlearn: 0.5380172\ttotal: 941ms\tremaining: 1.93s\n",
      "147:\tlearn: 0.5379775\ttotal: 947ms\tremaining: 1.93s\n",
      "148:\tlearn: 0.5379526\ttotal: 954ms\tremaining: 1.92s\n",
      "149:\tlearn: 0.5379181\ttotal: 961ms\tremaining: 1.91s\n",
      "150:\tlearn: 0.5378833\ttotal: 967ms\tremaining: 1.91s\n",
      "151:\tlearn: 0.5378504\ttotal: 974ms\tremaining: 1.9s\n",
      "152:\tlearn: 0.5378181\ttotal: 981ms\tremaining: 1.9s\n",
      "153:\tlearn: 0.5377926\ttotal: 987ms\tremaining: 1.89s\n",
      "154:\tlearn: 0.5377686\ttotal: 994ms\tremaining: 1.89s\n",
      "155:\tlearn: 0.5376671\ttotal: 1s\tremaining: 1.88s\n",
      "156:\tlearn: 0.5376247\ttotal: 1.01s\tremaining: 1.87s\n",
      "157:\tlearn: 0.5375936\ttotal: 1.01s\tremaining: 1.87s\n",
      "158:\tlearn: 0.5375705\ttotal: 1.02s\tremaining: 1.86s\n",
      "159:\tlearn: 0.5375485\ttotal: 1.03s\tremaining: 1.85s\n",
      "160:\tlearn: 0.5375304\ttotal: 1.03s\tremaining: 1.85s\n",
      "161:\tlearn: 0.5375059\ttotal: 1.04s\tremaining: 1.84s\n",
      "162:\tlearn: 0.5374835\ttotal: 1.05s\tremaining: 1.84s\n",
      "163:\tlearn: 0.5374502\ttotal: 1.05s\tremaining: 1.83s\n",
      "164:\tlearn: 0.5374191\ttotal: 1.06s\tremaining: 1.82s\n",
      "165:\tlearn: 0.5373876\ttotal: 1.07s\tremaining: 1.82s\n",
      "166:\tlearn: 0.5373581\ttotal: 1.07s\tremaining: 1.81s\n",
      "167:\tlearn: 0.5373258\ttotal: 1.08s\tremaining: 1.81s\n",
      "168:\tlearn: 0.5372984\ttotal: 1.09s\tremaining: 1.8s\n",
      "169:\tlearn: 0.5372748\ttotal: 1.09s\tremaining: 1.79s\n",
      "170:\tlearn: 0.5372167\ttotal: 1.1s\tremaining: 1.79s\n",
      "171:\tlearn: 0.5371929\ttotal: 1.11s\tremaining: 1.78s\n",
      "172:\tlearn: 0.5371696\ttotal: 1.11s\tremaining: 1.77s\n",
      "173:\tlearn: 0.5371381\ttotal: 1.12s\tremaining: 1.77s\n",
      "174:\tlearn: 0.5371060\ttotal: 1.13s\tremaining: 1.76s\n",
      "175:\tlearn: 0.5370494\ttotal: 1.13s\tremaining: 1.76s\n",
      "176:\tlearn: 0.5370294\ttotal: 1.14s\tremaining: 1.75s\n",
      "177:\tlearn: 0.5370094\ttotal: 1.15s\tremaining: 1.74s\n",
      "178:\tlearn: 0.5369657\ttotal: 1.15s\tremaining: 1.74s\n",
      "179:\tlearn: 0.5369423\ttotal: 1.16s\tremaining: 1.73s\n",
      "180:\tlearn: 0.5369027\ttotal: 1.17s\tremaining: 1.73s\n",
      "181:\tlearn: 0.5368867\ttotal: 1.17s\tremaining: 1.72s\n",
      "182:\tlearn: 0.5368613\ttotal: 1.18s\tremaining: 1.71s\n",
      "183:\tlearn: 0.5368284\ttotal: 1.19s\tremaining: 1.71s\n",
      "184:\tlearn: 0.5368059\ttotal: 1.19s\tremaining: 1.7s\n",
      "185:\tlearn: 0.5367850\ttotal: 1.2s\tremaining: 1.7s\n",
      "186:\tlearn: 0.5367551\ttotal: 1.21s\tremaining: 1.69s\n",
      "187:\tlearn: 0.5367288\ttotal: 1.21s\tremaining: 1.68s\n",
      "188:\tlearn: 0.5367002\ttotal: 1.22s\tremaining: 1.68s\n",
      "189:\tlearn: 0.5366552\ttotal: 1.23s\tremaining: 1.67s\n",
      "190:\tlearn: 0.5366033\ttotal: 1.23s\tremaining: 1.66s\n",
      "191:\tlearn: 0.5365738\ttotal: 1.24s\tremaining: 1.66s\n",
      "192:\tlearn: 0.5365536\ttotal: 1.24s\tremaining: 1.65s\n",
      "193:\tlearn: 0.5365354\ttotal: 1.25s\tremaining: 1.64s\n",
      "194:\tlearn: 0.5365160\ttotal: 1.26s\tremaining: 1.64s\n",
      "195:\tlearn: 0.5365008\ttotal: 1.26s\tremaining: 1.63s\n",
      "196:\tlearn: 0.5364729\ttotal: 1.27s\tremaining: 1.62s\n",
      "197:\tlearn: 0.5364376\ttotal: 1.28s\tremaining: 1.62s\n",
      "198:\tlearn: 0.5364105\ttotal: 1.28s\tremaining: 1.61s\n",
      "199:\tlearn: 0.5363347\ttotal: 1.29s\tremaining: 1.6s\n",
      "200:\tlearn: 0.5363181\ttotal: 1.3s\tremaining: 1.6s\n",
      "201:\tlearn: 0.5362884\ttotal: 1.3s\tremaining: 1.59s\n",
      "202:\tlearn: 0.5362235\ttotal: 1.31s\tremaining: 1.59s\n",
      "203:\tlearn: 0.5361949\ttotal: 1.32s\tremaining: 1.58s\n",
      "204:\tlearn: 0.5361844\ttotal: 1.32s\tremaining: 1.57s\n",
      "205:\tlearn: 0.5361685\ttotal: 1.33s\tremaining: 1.57s\n",
      "206:\tlearn: 0.5361542\ttotal: 1.33s\tremaining: 1.56s\n",
      "207:\tlearn: 0.5361187\ttotal: 1.34s\tremaining: 1.55s\n",
      "208:\tlearn: 0.5361020\ttotal: 1.35s\tremaining: 1.55s\n",
      "209:\tlearn: 0.5360868\ttotal: 1.36s\tremaining: 1.54s\n",
      "210:\tlearn: 0.5360530\ttotal: 1.36s\tremaining: 1.54s\n",
      "211:\tlearn: 0.5360363\ttotal: 1.37s\tremaining: 1.53s\n",
      "212:\tlearn: 0.5359982\ttotal: 1.38s\tremaining: 1.52s\n",
      "213:\tlearn: 0.5359724\ttotal: 1.38s\tremaining: 1.52s\n",
      "214:\tlearn: 0.5359528\ttotal: 1.39s\tremaining: 1.51s\n",
      "215:\tlearn: 0.5359228\ttotal: 1.4s\tremaining: 1.5s\n",
      "216:\tlearn: 0.5359046\ttotal: 1.4s\tremaining: 1.5s\n",
      "217:\tlearn: 0.5358805\ttotal: 1.41s\tremaining: 1.49s\n",
      "218:\tlearn: 0.5358519\ttotal: 1.41s\tremaining: 1.49s\n",
      "219:\tlearn: 0.5358195\ttotal: 1.42s\tremaining: 1.48s\n",
      "220:\tlearn: 0.5357967\ttotal: 1.43s\tremaining: 1.47s\n",
      "221:\tlearn: 0.5357782\ttotal: 1.43s\tremaining: 1.47s\n",
      "222:\tlearn: 0.5357483\ttotal: 1.44s\tremaining: 1.46s\n",
      "223:\tlearn: 0.5357234\ttotal: 1.45s\tremaining: 1.45s\n",
      "224:\tlearn: 0.5356955\ttotal: 1.45s\tremaining: 1.45s\n",
      "225:\tlearn: 0.5356552\ttotal: 1.46s\tremaining: 1.44s\n",
      "226:\tlearn: 0.5356324\ttotal: 1.47s\tremaining: 1.44s\n",
      "227:\tlearn: 0.5356129\ttotal: 1.47s\tremaining: 1.43s\n",
      "228:\tlearn: 0.5355881\ttotal: 1.48s\tremaining: 1.42s\n",
      "229:\tlearn: 0.5355489\ttotal: 1.49s\tremaining: 1.42s\n",
      "230:\tlearn: 0.5355287\ttotal: 1.5s\tremaining: 1.41s\n",
      "231:\tlearn: 0.5355044\ttotal: 1.5s\tremaining: 1.4s\n",
      "232:\tlearn: 0.5354835\ttotal: 1.51s\tremaining: 1.4s\n",
      "233:\tlearn: 0.5354575\ttotal: 1.51s\tremaining: 1.39s\n",
      "234:\tlearn: 0.5354349\ttotal: 1.52s\tremaining: 1.39s\n",
      "235:\tlearn: 0.5354185\ttotal: 1.53s\tremaining: 1.38s\n",
      "236:\tlearn: 0.5353994\ttotal: 1.53s\tremaining: 1.37s\n",
      "237:\tlearn: 0.5353843\ttotal: 1.54s\tremaining: 1.37s\n",
      "238:\tlearn: 0.5353619\ttotal: 1.55s\tremaining: 1.36s\n",
      "239:\tlearn: 0.5353436\ttotal: 1.56s\tremaining: 1.36s\n",
      "240:\tlearn: 0.5353184\ttotal: 1.56s\tremaining: 1.35s\n",
      "241:\tlearn: 0.5352950\ttotal: 1.57s\tremaining: 1.34s\n",
      "242:\tlearn: 0.5352824\ttotal: 1.58s\tremaining: 1.34s\n",
      "243:\tlearn: 0.5352602\ttotal: 1.58s\tremaining: 1.33s\n",
      "244:\tlearn: 0.5352378\ttotal: 1.59s\tremaining: 1.32s\n",
      "245:\tlearn: 0.5352165\ttotal: 1.6s\tremaining: 1.32s\n",
      "246:\tlearn: 0.5351949\ttotal: 1.6s\tremaining: 1.31s\n",
      "247:\tlearn: 0.5351403\ttotal: 1.61s\tremaining: 1.3s\n",
      "248:\tlearn: 0.5351134\ttotal: 1.62s\tremaining: 1.3s\n",
      "249:\tlearn: 0.5350935\ttotal: 1.62s\tremaining: 1.29s\n",
      "250:\tlearn: 0.5350727\ttotal: 1.63s\tremaining: 1.28s\n",
      "251:\tlearn: 0.5350539\ttotal: 1.64s\tremaining: 1.28s\n",
      "252:\tlearn: 0.5350350\ttotal: 1.64s\tremaining: 1.27s\n",
      "253:\tlearn: 0.5350096\ttotal: 1.65s\tremaining: 1.27s\n",
      "254:\tlearn: 0.5349832\ttotal: 1.66s\tremaining: 1.26s\n",
      "255:\tlearn: 0.5349712\ttotal: 1.66s\tremaining: 1.25s\n",
      "256:\tlearn: 0.5349485\ttotal: 1.67s\tremaining: 1.25s\n",
      "257:\tlearn: 0.5349218\ttotal: 1.68s\tremaining: 1.24s\n",
      "258:\tlearn: 0.5349156\ttotal: 1.68s\tremaining: 1.24s\n",
      "259:\tlearn: 0.5348910\ttotal: 1.69s\tremaining: 1.23s\n",
      "260:\tlearn: 0.5348629\ttotal: 1.7s\tremaining: 1.22s\n",
      "261:\tlearn: 0.5348402\ttotal: 1.7s\tremaining: 1.22s\n",
      "262:\tlearn: 0.5348193\ttotal: 1.71s\tremaining: 1.21s\n",
      "263:\tlearn: 0.5348013\ttotal: 1.72s\tremaining: 1.2s\n",
      "264:\tlearn: 0.5347816\ttotal: 1.72s\tremaining: 1.2s\n",
      "265:\tlearn: 0.5347614\ttotal: 1.73s\tremaining: 1.19s\n",
      "266:\tlearn: 0.5347494\ttotal: 1.74s\tremaining: 1.18s\n",
      "267:\tlearn: 0.5347242\ttotal: 1.74s\tremaining: 1.18s\n",
      "268:\tlearn: 0.5347037\ttotal: 1.75s\tremaining: 1.17s\n",
      "269:\tlearn: 0.5346728\ttotal: 1.76s\tremaining: 1.16s\n",
      "270:\tlearn: 0.5346542\ttotal: 1.76s\tremaining: 1.16s\n",
      "271:\tlearn: 0.5346413\ttotal: 1.77s\tremaining: 1.15s\n",
      "272:\tlearn: 0.5346189\ttotal: 1.77s\tremaining: 1.14s\n",
      "273:\tlearn: 0.5345967\ttotal: 1.78s\tremaining: 1.14s\n",
      "274:\tlearn: 0.5345767\ttotal: 1.79s\tremaining: 1.13s\n",
      "275:\tlearn: 0.5345562\ttotal: 1.79s\tremaining: 1.12s\n",
      "276:\tlearn: 0.5345375\ttotal: 1.8s\tremaining: 1.12s\n",
      "277:\tlearn: 0.5345152\ttotal: 1.81s\tremaining: 1.11s\n",
      "278:\tlearn: 0.5344994\ttotal: 1.81s\tremaining: 1.1s\n",
      "279:\tlearn: 0.5344828\ttotal: 1.82s\tremaining: 1.1s\n",
      "280:\tlearn: 0.5344652\ttotal: 1.83s\tremaining: 1.09s\n",
      "281:\tlearn: 0.5344460\ttotal: 1.83s\tremaining: 1.08s\n",
      "282:\tlearn: 0.5344232\ttotal: 1.84s\tremaining: 1.08s\n",
      "283:\tlearn: 0.5344038\ttotal: 1.85s\tremaining: 1.07s\n",
      "284:\tlearn: 0.5343837\ttotal: 1.85s\tremaining: 1.07s\n",
      "285:\tlearn: 0.5343632\ttotal: 1.86s\tremaining: 1.06s\n",
      "286:\tlearn: 0.5343530\ttotal: 1.87s\tremaining: 1.05s\n",
      "287:\tlearn: 0.5343291\ttotal: 1.87s\tremaining: 1.05s\n",
      "288:\tlearn: 0.5343110\ttotal: 1.88s\tremaining: 1.04s\n",
      "289:\tlearn: 0.5342872\ttotal: 1.89s\tremaining: 1.03s\n",
      "290:\tlearn: 0.5342748\ttotal: 1.9s\tremaining: 1.03s\n",
      "291:\tlearn: 0.5342531\ttotal: 1.9s\tremaining: 1.02s\n",
      "292:\tlearn: 0.5342396\ttotal: 1.91s\tremaining: 1.01s\n",
      "293:\tlearn: 0.5342182\ttotal: 1.91s\tremaining: 1.01s\n",
      "294:\tlearn: 0.5342014\ttotal: 1.92s\tremaining: 1s\n",
      "295:\tlearn: 0.5341861\ttotal: 1.93s\tremaining: 996ms\n",
      "296:\tlearn: 0.5341791\ttotal: 1.93s\tremaining: 990ms\n",
      "297:\tlearn: 0.5341681\ttotal: 1.94s\tremaining: 984ms\n",
      "298:\tlearn: 0.5341527\ttotal: 1.95s\tremaining: 977ms\n",
      "299:\tlearn: 0.5341246\ttotal: 1.95s\tremaining: 971ms\n",
      "300:\tlearn: 0.5341168\ttotal: 1.96s\tremaining: 964ms\n",
      "301:\tlearn: 0.5340960\ttotal: 1.97s\tremaining: 958ms\n",
      "302:\tlearn: 0.5340763\ttotal: 1.97s\tremaining: 951ms\n",
      "303:\tlearn: 0.5340523\ttotal: 1.98s\tremaining: 945ms\n",
      "304:\tlearn: 0.5340364\ttotal: 1.99s\tremaining: 939ms\n",
      "305:\tlearn: 0.5340203\ttotal: 1.99s\tremaining: 932ms\n",
      "306:\tlearn: 0.5340018\ttotal: 2s\tremaining: 926ms\n",
      "307:\tlearn: 0.5339847\ttotal: 2.01s\tremaining: 920ms\n",
      "308:\tlearn: 0.5339768\ttotal: 2.02s\tremaining: 913ms\n",
      "309:\tlearn: 0.5339572\ttotal: 2.02s\tremaining: 907ms\n",
      "310:\tlearn: 0.5339486\ttotal: 2.03s\tremaining: 900ms\n",
      "311:\tlearn: 0.5339310\ttotal: 2.04s\tremaining: 894ms\n",
      "312:\tlearn: 0.5339127\ttotal: 2.04s\tremaining: 887ms\n",
      "313:\tlearn: 0.5338886\ttotal: 2.05s\tremaining: 881ms\n",
      "314:\tlearn: 0.5338676\ttotal: 2.05s\tremaining: 874ms\n",
      "315:\tlearn: 0.5338531\ttotal: 2.06s\tremaining: 868ms\n",
      "316:\tlearn: 0.5338368\ttotal: 2.07s\tremaining: 861ms\n",
      "317:\tlearn: 0.5338207\ttotal: 2.08s\tremaining: 855ms\n",
      "318:\tlearn: 0.5338024\ttotal: 2.08s\tremaining: 849ms\n",
      "319:\tlearn: 0.5337876\ttotal: 2.09s\tremaining: 842ms\n",
      "320:\tlearn: 0.5337701\ttotal: 2.1s\tremaining: 836ms\n",
      "321:\tlearn: 0.5337528\ttotal: 2.1s\tremaining: 829ms\n",
      "322:\tlearn: 0.5337398\ttotal: 2.11s\tremaining: 823ms\n",
      "323:\tlearn: 0.5337220\ttotal: 2.12s\tremaining: 816ms\n",
      "324:\tlearn: 0.5336841\ttotal: 2.12s\tremaining: 810ms\n",
      "325:\tlearn: 0.5336690\ttotal: 2.13s\tremaining: 803ms\n",
      "326:\tlearn: 0.5336540\ttotal: 2.14s\tremaining: 797ms\n",
      "327:\tlearn: 0.5336417\ttotal: 2.14s\tremaining: 790ms\n",
      "328:\tlearn: 0.5336315\ttotal: 2.15s\tremaining: 784ms\n",
      "329:\tlearn: 0.5336169\ttotal: 2.15s\tremaining: 777ms\n",
      "330:\tlearn: 0.5336015\ttotal: 2.16s\tremaining: 771ms\n",
      "331:\tlearn: 0.5335864\ttotal: 2.17s\tremaining: 765ms\n",
      "332:\tlearn: 0.5335765\ttotal: 2.17s\tremaining: 758ms\n",
      "333:\tlearn: 0.5335595\ttotal: 2.18s\tremaining: 751ms\n",
      "334:\tlearn: 0.5335379\ttotal: 2.19s\tremaining: 745ms\n",
      "335:\tlearn: 0.5335158\ttotal: 2.19s\tremaining: 739ms\n",
      "336:\tlearn: 0.5334837\ttotal: 2.2s\tremaining: 732ms\n",
      "337:\tlearn: 0.5334745\ttotal: 2.21s\tremaining: 726ms\n",
      "338:\tlearn: 0.5334560\ttotal: 2.21s\tremaining: 719ms\n",
      "339:\tlearn: 0.5334344\ttotal: 2.22s\tremaining: 712ms\n",
      "340:\tlearn: 0.5334189\ttotal: 2.23s\tremaining: 706ms\n",
      "341:\tlearn: 0.5333985\ttotal: 2.23s\tremaining: 700ms\n",
      "342:\tlearn: 0.5333819\ttotal: 2.24s\tremaining: 693ms\n",
      "343:\tlearn: 0.5333669\ttotal: 2.25s\tremaining: 687ms\n",
      "344:\tlearn: 0.5333521\ttotal: 2.26s\tremaining: 680ms\n",
      "345:\tlearn: 0.5333297\ttotal: 2.26s\tremaining: 674ms\n",
      "346:\tlearn: 0.5333205\ttotal: 2.27s\tremaining: 667ms\n",
      "347:\tlearn: 0.5333064\ttotal: 2.28s\tremaining: 661ms\n",
      "348:\tlearn: 0.5332911\ttotal: 2.28s\tremaining: 654ms\n",
      "349:\tlearn: 0.5332765\ttotal: 2.29s\tremaining: 648ms\n",
      "350:\tlearn: 0.5332589\ttotal: 2.3s\tremaining: 641ms\n",
      "351:\tlearn: 0.5332377\ttotal: 2.3s\tremaining: 635ms\n",
      "352:\tlearn: 0.5332259\ttotal: 2.31s\tremaining: 628ms\n",
      "353:\tlearn: 0.5332067\ttotal: 2.32s\tremaining: 622ms\n",
      "354:\tlearn: 0.5331863\ttotal: 2.32s\tremaining: 615ms\n",
      "355:\tlearn: 0.5331691\ttotal: 2.33s\tremaining: 609ms\n",
      "356:\tlearn: 0.5331566\ttotal: 2.34s\tremaining: 602ms\n",
      "357:\tlearn: 0.5331332\ttotal: 2.34s\tremaining: 596ms\n",
      "358:\tlearn: 0.5331133\ttotal: 2.35s\tremaining: 589ms\n",
      "359:\tlearn: 0.5330954\ttotal: 2.36s\tremaining: 583ms\n",
      "360:\tlearn: 0.5330836\ttotal: 2.37s\tremaining: 577ms\n",
      "361:\tlearn: 0.5330705\ttotal: 2.37s\tremaining: 570ms\n",
      "362:\tlearn: 0.5330540\ttotal: 2.38s\tremaining: 564ms\n",
      "363:\tlearn: 0.5330368\ttotal: 2.38s\tremaining: 557ms\n",
      "364:\tlearn: 0.5330123\ttotal: 2.39s\tremaining: 551ms\n",
      "365:\tlearn: 0.5329994\ttotal: 2.4s\tremaining: 544ms\n",
      "366:\tlearn: 0.5329818\ttotal: 2.41s\tremaining: 538ms\n",
      "367:\tlearn: 0.5329599\ttotal: 2.41s\tremaining: 531ms\n",
      "368:\tlearn: 0.5329414\ttotal: 2.42s\tremaining: 525ms\n",
      "369:\tlearn: 0.5329280\ttotal: 2.43s\tremaining: 518ms\n",
      "370:\tlearn: 0.5329080\ttotal: 2.44s\tremaining: 512ms\n",
      "371:\tlearn: 0.5328905\ttotal: 2.44s\tremaining: 505ms\n",
      "372:\tlearn: 0.5328789\ttotal: 2.45s\tremaining: 499ms\n",
      "373:\tlearn: 0.5328646\ttotal: 2.46s\tremaining: 493ms\n",
      "374:\tlearn: 0.5328499\ttotal: 2.46s\tremaining: 486ms\n",
      "375:\tlearn: 0.5328343\ttotal: 2.47s\tremaining: 480ms\n",
      "376:\tlearn: 0.5328191\ttotal: 2.48s\tremaining: 473ms\n",
      "377:\tlearn: 0.5328069\ttotal: 2.48s\tremaining: 467ms\n",
      "378:\tlearn: 0.5327876\ttotal: 2.49s\tremaining: 460ms\n",
      "379:\tlearn: 0.5327802\ttotal: 2.5s\tremaining: 454ms\n",
      "380:\tlearn: 0.5327668\ttotal: 2.5s\tremaining: 447ms\n",
      "381:\tlearn: 0.5327499\ttotal: 2.51s\tremaining: 440ms\n",
      "382:\tlearn: 0.5327377\ttotal: 2.52s\tremaining: 434ms\n",
      "383:\tlearn: 0.5327246\ttotal: 2.52s\tremaining: 428ms\n",
      "384:\tlearn: 0.5327152\ttotal: 2.53s\tremaining: 421ms\n",
      "385:\tlearn: 0.5327057\ttotal: 2.54s\tremaining: 414ms\n",
      "386:\tlearn: 0.5326914\ttotal: 2.54s\tremaining: 408ms\n",
      "387:\tlearn: 0.5326774\ttotal: 2.55s\tremaining: 401ms\n",
      "388:\tlearn: 0.5326589\ttotal: 2.56s\tremaining: 395ms\n",
      "389:\tlearn: 0.5326449\ttotal: 2.56s\tremaining: 388ms\n",
      "390:\tlearn: 0.5326345\ttotal: 2.57s\tremaining: 381ms\n",
      "391:\tlearn: 0.5326198\ttotal: 2.58s\tremaining: 375ms\n",
      "392:\tlearn: 0.5326050\ttotal: 2.59s\tremaining: 369ms\n",
      "393:\tlearn: 0.5325852\ttotal: 2.59s\tremaining: 362ms\n",
      "394:\tlearn: 0.5325727\ttotal: 2.6s\tremaining: 355ms\n",
      "395:\tlearn: 0.5325692\ttotal: 2.6s\tremaining: 349ms\n",
      "396:\tlearn: 0.5325592\ttotal: 2.61s\tremaining: 342ms\n",
      "397:\tlearn: 0.5325505\ttotal: 2.62s\tremaining: 336ms\n",
      "398:\tlearn: 0.5325297\ttotal: 2.63s\tremaining: 329ms\n",
      "399:\tlearn: 0.5325143\ttotal: 2.63s\tremaining: 323ms\n",
      "400:\tlearn: 0.5324997\ttotal: 2.64s\tremaining: 316ms\n",
      "401:\tlearn: 0.5324840\ttotal: 2.65s\tremaining: 309ms\n",
      "402:\tlearn: 0.5324767\ttotal: 2.65s\tremaining: 303ms\n",
      "403:\tlearn: 0.5324551\ttotal: 2.66s\tremaining: 296ms\n",
      "404:\tlearn: 0.5324397\ttotal: 2.67s\tremaining: 290ms\n",
      "405:\tlearn: 0.5324259\ttotal: 2.67s\tremaining: 283ms\n",
      "406:\tlearn: 0.5324095\ttotal: 2.68s\tremaining: 277ms\n",
      "407:\tlearn: 0.5323878\ttotal: 2.69s\tremaining: 270ms\n",
      "408:\tlearn: 0.5323634\ttotal: 2.69s\tremaining: 263ms\n",
      "409:\tlearn: 0.5323460\ttotal: 2.7s\tremaining: 257ms\n",
      "410:\tlearn: 0.5323291\ttotal: 2.71s\tremaining: 250ms\n",
      "411:\tlearn: 0.5323208\ttotal: 2.71s\tremaining: 244ms\n",
      "412:\tlearn: 0.5323042\ttotal: 2.72s\tremaining: 237ms\n",
      "413:\tlearn: 0.5322829\ttotal: 2.73s\tremaining: 231ms\n",
      "414:\tlearn: 0.5322752\ttotal: 2.73s\tremaining: 224ms\n",
      "415:\tlearn: 0.5322602\ttotal: 2.74s\tremaining: 217ms\n",
      "416:\tlearn: 0.5322429\ttotal: 2.75s\tremaining: 211ms\n",
      "417:\tlearn: 0.5322205\ttotal: 2.75s\tremaining: 204ms\n",
      "418:\tlearn: 0.5322027\ttotal: 2.76s\tremaining: 198ms\n",
      "419:\tlearn: 0.5321898\ttotal: 2.77s\tremaining: 191ms\n",
      "420:\tlearn: 0.5321745\ttotal: 2.77s\tremaining: 185ms\n",
      "421:\tlearn: 0.5321644\ttotal: 2.78s\tremaining: 178ms\n",
      "422:\tlearn: 0.5321547\ttotal: 2.79s\tremaining: 171ms\n",
      "423:\tlearn: 0.5321344\ttotal: 2.79s\tremaining: 165ms\n",
      "424:\tlearn: 0.5321223\ttotal: 2.8s\tremaining: 158ms\n",
      "425:\tlearn: 0.5321106\ttotal: 2.81s\tremaining: 152ms\n",
      "426:\tlearn: 0.5321042\ttotal: 2.81s\tremaining: 145ms\n",
      "427:\tlearn: 0.5320843\ttotal: 2.82s\tremaining: 138ms\n",
      "428:\tlearn: 0.5320699\ttotal: 2.83s\tremaining: 132ms\n",
      "429:\tlearn: 0.5320579\ttotal: 2.83s\tremaining: 125ms\n",
      "430:\tlearn: 0.5320503\ttotal: 2.84s\tremaining: 119ms\n",
      "431:\tlearn: 0.5320407\ttotal: 2.85s\tremaining: 112ms\n",
      "432:\tlearn: 0.5320334\ttotal: 2.85s\tremaining: 105ms\n",
      "433:\tlearn: 0.5320291\ttotal: 2.86s\tremaining: 98.9ms\n",
      "434:\tlearn: 0.5320094\ttotal: 2.87s\tremaining: 92.3ms\n",
      "435:\tlearn: 0.5319842\ttotal: 2.87s\tremaining: 85.7ms\n",
      "436:\tlearn: 0.5319681\ttotal: 2.88s\tremaining: 79.1ms\n",
      "437:\tlearn: 0.5319532\ttotal: 2.89s\tremaining: 72.5ms\n",
      "438:\tlearn: 0.5319391\ttotal: 2.89s\tremaining: 65.9ms\n",
      "439:\tlearn: 0.5319238\ttotal: 2.9s\tremaining: 59.3ms\n",
      "440:\tlearn: 0.5319104\ttotal: 2.91s\tremaining: 52.7ms\n",
      "441:\tlearn: 0.5318892\ttotal: 2.91s\tremaining: 46.1ms\n",
      "442:\tlearn: 0.5318672\ttotal: 2.92s\tremaining: 39.6ms\n",
      "443:\tlearn: 0.5318526\ttotal: 2.93s\tremaining: 33ms\n",
      "444:\tlearn: 0.5318432\ttotal: 2.93s\tremaining: 26.4ms\n",
      "445:\tlearn: 0.5318283\ttotal: 2.94s\tremaining: 19.8ms\n",
      "446:\tlearn: 0.5318132\ttotal: 2.95s\tremaining: 13.2ms\n",
      "447:\tlearn: 0.5318014\ttotal: 2.95s\tremaining: 6.59ms\n",
      "448:\tlearn: 0.5317915\ttotal: 2.96s\tremaining: 0us\n"
     ]
    },
    {
     "data": {
      "text/plain": [
       "<catboost.core.CatBoostClassifier at 0x21c276830d0>"
      ]
     },
     "execution_count": 59,
     "metadata": {},
     "output_type": "execute_result"
    }
   ],
   "source": [
    "model_LGBM.fit(train, y_train_)\n",
    "model_XGB.fit(train, y_train_)\n",
    "model_Cat.fit(train, y_train_)"
   ]
  },
  {
   "cell_type": "code",
   "execution_count": 71,
   "metadata": {},
   "outputs": [],
   "source": [
    "pred_LGBM = model_LGBM.predict_proba(test)[:, 1]\n",
    "pred_XGB = model_XGB.predict_proba(test)[:, 1]\n",
    "pred_Cat = model_Cat.predict_proba(test)[:, 1]"
   ]
  },
  {
   "cell_type": "code",
   "execution_count": 72,
   "metadata": {},
   "outputs": [],
   "source": [
    "prediction = pred_LGBM * 0.2 + pred_XGB * 0.2 + pred_Cat * 0.6"
   ]
  },
  {
   "cell_type": "code",
   "execution_count": 73,
   "metadata": {},
   "outputs": [],
   "source": [
    "test_submission = pd.DataFrame(sample_submission['id'])\n",
    "test_submission['insomnia'] = prediction\n",
    "test_submission.to_csv('test_submission_ensemble.csv', index=False)"
   ]
  }
 ],
 "metadata": {
  "interpreter": {
   "hash": "29b3831a7530714fad75a5925a6795394f409972720ce57cd8ddf62c141c7342"
  },
  "kernelspec": {
   "display_name": "Python 3.9.7 64-bit ('py3.9': conda)",
   "language": "python",
   "name": "python3"
  },
  "language_info": {
   "codemirror_mode": {
    "name": "ipython",
    "version": 3
   },
   "file_extension": ".py",
   "mimetype": "text/x-python",
   "name": "python",
   "nbconvert_exporter": "python",
   "pygments_lexer": "ipython3",
   "version": "3.9.7"
  },
  "orig_nbformat": 4
 },
 "nbformat": 4,
 "nbformat_minor": 2
}
